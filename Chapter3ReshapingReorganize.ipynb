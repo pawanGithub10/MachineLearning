{
  "nbformat": 4,
  "nbformat_minor": 0,
  "metadata": {
    "colab": {
      "name": "Chapter3ReshapingReorganize.ipynb",
      "provenance": [],
      "authorship_tag": "ABX9TyOudDXapGXNiIevORpVEbdK",
      "include_colab_link": true
    },
    "kernelspec": {
      "name": "python3",
      "display_name": "Python 3"
    }
  },
  "cells": [
    {
      "cell_type": "markdown",
      "metadata": {
        "id": "view-in-github",
        "colab_type": "text"
      },
      "source": [
        "<a href=\"https://colab.research.google.com/github/pawanGithub10/MachineLearning/blob/main/Chapter3ReshapingReorganize.ipynb\" target=\"_parent\"><img src=\"https://colab.research.google.com/assets/colab-badge.svg\" alt=\"Open In Colab\"/></a>"
      ]
    },
    {
      "cell_type": "code",
      "metadata": {
        "id": "VCSbIUdFFUrH"
      },
      "source": [
        "import pandas as pd \n",
        "import numpy as np\n",
        "import datetime\n",
        "import matplotlib.pyplot as plt\n",
        "%matplotlib inline\n",
        "pd.set_option('display.notebook_repr_html',False)\n",
        "pd.set_option('display.max_columns',15)\n",
        "pd.set_option('precision',3)"
      ],
      "execution_count": 12,
      "outputs": []
    },
    {
      "cell_type": "code",
      "metadata": {
        "id": "auNXDAI_G85N"
      },
      "source": [
        "import pandas_datareader.data as web\n",
        "\n",
        "start = datetime.datetime(2020,1,1)\n",
        "end = datetime.datetime(2020,11,12)\n",
        "\n",
        "msft = web.DataReader('MSFT','yahoo',start,end)\n",
        "aapl = web.DataReader('AAPL','yahoo',start,end)"
      ],
      "execution_count": 13,
      "outputs": []
    },
    {
      "cell_type": "code",
      "metadata": {
        "id": "X4JyehTJINWD",
        "outputId": "4520d2b0-6e5b-466e-813a-724258d1147f",
        "colab": {
          "base_uri": "https://localhost:8080/"
        }
      },
      "source": [
        "msft[:3]"
      ],
      "execution_count": 14,
      "outputs": [
        {
          "output_type": "execute_result",
          "data": {
            "text/plain": [
              "              High     Low    Open   Close     Volume  Adj Close\n",
              "Date                                                            \n",
              "2020-01-02  160.73  158.33  158.78  160.62  2.262e+07    159.352\n",
              "2020-01-03  159.95  158.06  158.32  158.62  2.112e+07    157.368\n",
              "2020-01-06  159.10  156.51  157.08  159.03  2.081e+07    157.775"
            ]
          },
          "metadata": {
            "tags": []
          },
          "execution_count": 14
        }
      ]
    },
    {
      "cell_type": "code",
      "metadata": {
        "id": "ZfTt1SjoJ4wL",
        "outputId": "4ab4d019-acb6-4aab-85b1-cfe4d8637f1e",
        "colab": {
          "base_uri": "https://localhost:8080/"
        }
      },
      "source": [
        "aapl[:3]"
      ],
      "execution_count": 15,
      "outputs": [
        {
          "output_type": "execute_result",
          "data": {
            "text/plain": [
              "              High     Low    Open   Close     Volume  Adj Close\n",
              "Date                                                            \n",
              "2020-01-02  75.150  73.798  74.060  75.088  1.355e+08     73.840\n",
              "2020-01-03  75.145  74.125  74.287  74.357  1.463e+08     73.122\n",
              "2020-01-06  74.990  73.188  73.448  74.950  1.184e+08     73.705"
            ]
          },
          "metadata": {
            "tags": []
          },
          "execution_count": 15
        }
      ]
    },
    {
      "cell_type": "code",
      "metadata": {
        "id": "8R-Q9oatJ868"
      },
      "source": [
        "#Reorganizing and reshaping the data\n",
        "msftadj01 = msft['2020-01'][['Adj Close']]\n",
        "msftadj05 = msft['2020-05'][['Adj Close']]"
      ],
      "execution_count": 16,
      "outputs": []
    },
    {
      "cell_type": "code",
      "metadata": {
        "id": "qGUt4K-NHk6p",
        "outputId": "eec5738e-764e-40fe-afd4-f7faf433a1ce",
        "colab": {
          "base_uri": "https://localhost:8080/"
        }
      },
      "source": [
        "msftadj01[0:3]"
      ],
      "execution_count": 18,
      "outputs": [
        {
          "output_type": "execute_result",
          "data": {
            "text/plain": [
              "            Adj Close\n",
              "Date                 \n",
              "2020-01-02    159.352\n",
              "2020-01-03    157.368\n",
              "2020-01-06    157.775"
            ]
          },
          "metadata": {
            "tags": []
          },
          "execution_count": 18
        }
      ]
    },
    {
      "cell_type": "code",
      "metadata": {
        "id": "KzC8o7v4LD4U",
        "outputId": "291604bb-fce6-42bd-dcce-acdee3f082a3",
        "colab": {
          "base_uri": "https://localhost:8080/"
        }
      },
      "source": [
        "msftadj05[0:30]"
      ],
      "execution_count": 20,
      "outputs": [
        {
          "output_type": "execute_result",
          "data": {
            "text/plain": [
              "            Adj Close\n",
              "Date                 \n",
              "2020-05-01    173.665\n",
              "2020-05-04    177.913\n",
              "2020-05-05    179.823\n",
              "2020-05-06    181.594\n",
              "2020-05-07    182.649\n",
              "2020-05-08    183.723\n",
              "2020-05-11    185.772\n",
              "2020-05-12    181.564\n",
              "2020-05-13    178.819\n",
              "2020-05-14    179.594\n",
              "2020-05-15    182.211\n",
              "2020-05-18    183.952\n",
              "2020-05-19    182.678\n",
              "2020-05-20    185.212\n",
              "2020-05-21    182.988\n",
              "2020-05-22    183.067\n",
              "2020-05-26    181.132\n",
              "2020-05-27    181.372\n",
              "2020-05-28    180.963\n",
              "2020-05-29    182.808"
            ]
          },
          "metadata": {
            "tags": []
          },
          "execution_count": 20
        }
      ]
    },
    {
      "cell_type": "code",
      "metadata": {
        "id": "1S5hK9xLLM58",
        "outputId": "6fad90c1-f8ec-4e79-c505-545b7fd10482",
        "colab": {
          "base_uri": "https://localhost:8080/"
        }
      },
      "source": [
        "pd.concat([msftadj01.head(5),msftadj05.head(5)])"
      ],
      "execution_count": 22,
      "outputs": [
        {
          "output_type": "execute_result",
          "data": {
            "text/plain": [
              "            Adj Close\n",
              "Date                 \n",
              "2020-01-02    159.352\n",
              "2020-01-03    157.368\n",
              "2020-01-06    157.775\n",
              "2020-01-07    156.336\n",
              "2020-01-08    158.827\n",
              "2020-05-01    173.665\n",
              "2020-05-04    177.913\n",
              "2020-05-05    179.823\n",
              "2020-05-06    181.594\n",
              "2020-05-07    182.649"
            ]
          },
          "metadata": {
            "tags": []
          },
          "execution_count": 22
        }
      ]
    },
    {
      "cell_type": "code",
      "metadata": {
        "id": "D_ovkEvKMEXc",
        "outputId": "b4a27359-0229-4bd8-b1c1-f997b10954eb",
        "colab": {
          "base_uri": "https://localhost:8080/"
        }
      },
      "source": [
        "aaplA01 = aapl['2020-01'][['Adj Close']]\n",
        "withdups = pd.concat([msftadj01[:3],aaplA01[:3]])\n",
        "withdups"
      ],
      "execution_count": 27,
      "outputs": [
        {
          "output_type": "execute_result",
          "data": {
            "text/plain": [
              "            Adj Close\n",
              "Date                 \n",
              "2020-01-02    159.352\n",
              "2020-01-03    157.368\n",
              "2020-01-06    157.775\n",
              "2020-01-02     73.840\n",
              "2020-01-03     73.122\n",
              "2020-01-06     73.705"
            ]
          },
          "metadata": {
            "tags": []
          },
          "execution_count": 27
        }
      ]
    },
    {
      "cell_type": "code",
      "metadata": {
        "id": "3WF5gdhlNXhc",
        "outputId": "9417dbcc-645f-4c19-82ca-3f61e2b8dc49",
        "colab": {
          "base_uri": "https://localhost:8080/"
        }
      },
      "source": [
        "withdups.loc['2020-01-02']"
      ],
      "execution_count": 29,
      "outputs": [
        {
          "output_type": "execute_result",
          "data": {
            "text/plain": [
              "            Adj Close\n",
              "Date                 \n",
              "2020-01-02    159.352\n",
              "2020-01-02     73.840"
            ]
          },
          "metadata": {
            "tags": []
          },
          "execution_count": 29
        }
      ]
    },
    {
      "cell_type": "code",
      "metadata": {
        "id": "bgRYLuKMNj8c",
        "outputId": "7fe9e47b-9803-4f5f-e41c-2b9db0f69679",
        "colab": {
          "base_uri": "https://localhost:8080/"
        }
      },
      "source": [
        "#Multiindex can solve the problem of lost identity\n",
        "closes = pd.concat([msftadj01[:3],aaplA01[:3]],keys=['MSFT','AAPL'])\n",
        "closes"
      ],
      "execution_count": 33,
      "outputs": [
        {
          "output_type": "execute_result",
          "data": {
            "text/plain": [
              "                 Adj Close\n",
              "     Date                 \n",
              "MSFT 2020-01-02    159.352\n",
              "     2020-01-03    157.368\n",
              "     2020-01-06    157.775\n",
              "AAPL 2020-01-02     73.840\n",
              "     2020-01-03     73.122\n",
              "     2020-01-06     73.705"
            ]
          },
          "metadata": {
            "tags": []
          },
          "execution_count": 33
        }
      ]
    },
    {
      "cell_type": "code",
      "metadata": {
        "id": "Iaswov4XOQZc",
        "outputId": "4a705b4d-929b-457d-b194-3fef4439246b",
        "colab": {
          "base_uri": "https://localhost:8080/"
        }
      },
      "source": [
        "closes.loc['MSFT'][:3]"
      ],
      "execution_count": 38,
      "outputs": [
        {
          "output_type": "execute_result",
          "data": {
            "text/plain": [
              "            Adj Close\n",
              "Date                 \n",
              "2020-01-02    159.352\n",
              "2020-01-03    157.368\n",
              "2020-01-06    157.775"
            ]
          },
          "metadata": {
            "tags": []
          },
          "execution_count": 38
        }
      ]
    },
    {
      "cell_type": "code",
      "metadata": {
        "id": "_0lbi9LbOo78"
      },
      "source": [
        ""
      ],
      "execution_count": null,
      "outputs": []
    },
    {
      "cell_type": "code",
      "metadata": {
        "id": "qNx_LPsmOhCE"
      },
      "source": [
        ""
      ],
      "execution_count": null,
      "outputs": []
    },
    {
      "cell_type": "code",
      "metadata": {
        "id": "_pSky6fUOcd8"
      },
      "source": [
        ""
      ],
      "execution_count": null,
      "outputs": []
    },
    {
      "cell_type": "code",
      "metadata": {
        "id": "X6Mq1u1nOZlU"
      },
      "source": [
        ""
      ],
      "execution_count": null,
      "outputs": []
    },
    {
      "cell_type": "code",
      "metadata": {
        "id": "iFNcTm_POYTU"
      },
      "source": [
        ""
      ],
      "execution_count": null,
      "outputs": []
    },
    {
      "cell_type": "code",
      "metadata": {
        "id": "Z6qIoBnGOO18"
      },
      "source": [
        ""
      ],
      "execution_count": null,
      "outputs": []
    },
    {
      "cell_type": "code",
      "metadata": {
        "id": "RXcX3yoUOMlU"
      },
      "source": [
        ""
      ],
      "execution_count": null,
      "outputs": []
    },
    {
      "cell_type": "code",
      "metadata": {
        "id": "fRf06olEOJUE"
      },
      "source": [
        ""
      ],
      "execution_count": null,
      "outputs": []
    },
    {
      "cell_type": "code",
      "metadata": {
        "id": "SUBiUIdgNgc0"
      },
      "source": [
        ""
      ],
      "execution_count": null,
      "outputs": []
    },
    {
      "cell_type": "code",
      "metadata": {
        "id": "knJnm2tDLjlb"
      },
      "source": [
        ""
      ],
      "execution_count": null,
      "outputs": []
    },
    {
      "cell_type": "code",
      "metadata": {
        "id": "GfFQnKHRLJO8"
      },
      "source": [
        ""
      ],
      "execution_count": null,
      "outputs": []
    }
  ]
}