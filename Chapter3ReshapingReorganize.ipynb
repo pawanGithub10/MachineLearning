{
  "nbformat": 4,
  "nbformat_minor": 0,
  "metadata": {
    "colab": {
      "name": "Chapter3ReshapingReorganize.ipynb",
      "provenance": [],
      "authorship_tag": "ABX9TyMmOvt2hdhL785oQHsHdbFW",
      "include_colab_link": true
    },
    "kernelspec": {
      "name": "python3",
      "display_name": "Python 3"
    }
  },
  "cells": [
    {
      "cell_type": "markdown",
      "metadata": {
        "id": "view-in-github",
        "colab_type": "text"
      },
      "source": [
        "<a href=\"https://colab.research.google.com/github/pawanGithub10/MachineLearning/blob/main/Chapter3ReshapingReorganize.ipynb\" target=\"_parent\"><img src=\"https://colab.research.google.com/assets/colab-badge.svg\" alt=\"Open In Colab\"/></a>"
      ]
    },
    {
      "cell_type": "code",
      "metadata": {
        "id": "VCSbIUdFFUrH"
      },
      "source": [
        "import pandas as pd \n",
        "import numpy as np\n",
        "import datetime\n",
        "import matplotlib.pyplot as plt\n",
        "%matplotlib inline\n",
        "pd.set_option('display.notebook_repr_html',False)\n",
        "pd.set_option('display.max_columns',15)\n",
        "pd.set_option('precision',3)\n",
        "pd.set_option('display.max_rows',20)\n"
      ],
      "execution_count": 38,
      "outputs": []
    },
    {
      "cell_type": "code",
      "metadata": {
        "id": "aQC1k9gSaDEB"
      },
      "source": [
        ""
      ],
      "execution_count": 38,
      "outputs": []
    },
    {
      "cell_type": "code",
      "metadata": {
        "id": "auNXDAI_G85N"
      },
      "source": [
        "import pandas_datareader.data as web\n",
        "\n",
        "start = datetime.datetime(2020,1,1)\n",
        "end = datetime.datetime(2020,11,12)\n",
        "\n",
        "msft = web.DataReader('MSFT','yahoo',start,end)\n",
        "aapl = web.DataReader('AAPL','yahoo',start,end)"
      ],
      "execution_count": 39,
      "outputs": []
    },
    {
      "cell_type": "code",
      "metadata": {
        "id": "X4JyehTJINWD",
        "outputId": "b3bfcd3a-543e-404d-8e3a-6ba719ced150",
        "colab": {
          "base_uri": "https://localhost:8080/"
        }
      },
      "source": [
        "msft[:3]"
      ],
      "execution_count": 40,
      "outputs": [
        {
          "output_type": "execute_result",
          "data": {
            "text/plain": [
              "              High     Low    Open   Close     Volume  Adj Close\n",
              "Date                                                            \n",
              "2020-01-02  160.73  158.33  158.78  160.62  2.262e+07    159.352\n",
              "2020-01-03  159.95  158.06  158.32  158.62  2.112e+07    157.368\n",
              "2020-01-06  159.10  156.51  157.08  159.03  2.081e+07    157.775"
            ]
          },
          "metadata": {
            "tags": []
          },
          "execution_count": 40
        }
      ]
    },
    {
      "cell_type": "code",
      "metadata": {
        "id": "ZfTt1SjoJ4wL",
        "outputId": "ad2a1168-4381-4a8d-8071-addc1b0c0685",
        "colab": {
          "base_uri": "https://localhost:8080/"
        }
      },
      "source": [
        "aapl[:3]"
      ],
      "execution_count": 41,
      "outputs": [
        {
          "output_type": "execute_result",
          "data": {
            "text/plain": [
              "              High     Low    Open   Close     Volume  Adj Close\n",
              "Date                                                            \n",
              "2020-01-02  75.150  73.798  74.060  75.088  1.355e+08     73.840\n",
              "2020-01-03  75.145  74.125  74.287  74.357  1.463e+08     73.122\n",
              "2020-01-06  74.990  73.188  73.448  74.950  1.184e+08     73.705"
            ]
          },
          "metadata": {
            "tags": []
          },
          "execution_count": 41
        }
      ]
    },
    {
      "cell_type": "code",
      "metadata": {
        "id": "8R-Q9oatJ868"
      },
      "source": [
        "#Reorganizing and reshaping the data\n",
        "msftadj01 = msft['2020-01'][['Adj Close']]\n",
        "msftadj05 = msft['2020-05'][['Adj Close']]"
      ],
      "execution_count": 42,
      "outputs": []
    },
    {
      "cell_type": "code",
      "metadata": {
        "id": "qGUt4K-NHk6p",
        "outputId": "3f37e55b-fecf-478f-f02f-b39e2598b8c1",
        "colab": {
          "base_uri": "https://localhost:8080/"
        }
      },
      "source": [
        "msftadj01[0:3]"
      ],
      "execution_count": 43,
      "outputs": [
        {
          "output_type": "execute_result",
          "data": {
            "text/plain": [
              "            Adj Close\n",
              "Date                 \n",
              "2020-01-02    159.352\n",
              "2020-01-03    157.368\n",
              "2020-01-06    157.775"
            ]
          },
          "metadata": {
            "tags": []
          },
          "execution_count": 43
        }
      ]
    },
    {
      "cell_type": "code",
      "metadata": {
        "id": "KzC8o7v4LD4U",
        "outputId": "c1b1bb62-7d12-4e86-f2bc-f48506d3b6cd",
        "colab": {
          "base_uri": "https://localhost:8080/"
        }
      },
      "source": [
        "msftadj05[0:30]"
      ],
      "execution_count": 44,
      "outputs": [
        {
          "output_type": "execute_result",
          "data": {
            "text/plain": [
              "            Adj Close\n",
              "Date                 \n",
              "2020-05-01    173.665\n",
              "2020-05-04    177.913\n",
              "2020-05-05    179.823\n",
              "2020-05-06    181.594\n",
              "2020-05-07    182.649\n",
              "2020-05-08    183.723\n",
              "2020-05-11    185.772\n",
              "2020-05-12    181.564\n",
              "2020-05-13    178.819\n",
              "2020-05-14    179.594\n",
              "2020-05-15    182.211\n",
              "2020-05-18    183.952\n",
              "2020-05-19    182.678\n",
              "2020-05-20    185.212\n",
              "2020-05-21    182.988\n",
              "2020-05-22    183.067\n",
              "2020-05-26    181.132\n",
              "2020-05-27    181.372\n",
              "2020-05-28    180.963\n",
              "2020-05-29    182.808"
            ]
          },
          "metadata": {
            "tags": []
          },
          "execution_count": 44
        }
      ]
    },
    {
      "cell_type": "code",
      "metadata": {
        "id": "1S5hK9xLLM58",
        "outputId": "02f0e0a8-8fa6-4ec3-9935-c8e00391665e",
        "colab": {
          "base_uri": "https://localhost:8080/"
        }
      },
      "source": [
        "pd.concat([msftadj01.head(5),msftadj05.head(5)])"
      ],
      "execution_count": 45,
      "outputs": [
        {
          "output_type": "execute_result",
          "data": {
            "text/plain": [
              "            Adj Close\n",
              "Date                 \n",
              "2020-01-02    159.352\n",
              "2020-01-03    157.368\n",
              "2020-01-06    157.775\n",
              "2020-01-07    156.336\n",
              "2020-01-08    158.827\n",
              "2020-05-01    173.665\n",
              "2020-05-04    177.913\n",
              "2020-05-05    179.823\n",
              "2020-05-06    181.594\n",
              "2020-05-07    182.649"
            ]
          },
          "metadata": {
            "tags": []
          },
          "execution_count": 45
        }
      ]
    },
    {
      "cell_type": "code",
      "metadata": {
        "id": "D_ovkEvKMEXc",
        "outputId": "f8b942ce-d215-4616-c813-b89d54efb546",
        "colab": {
          "base_uri": "https://localhost:8080/"
        }
      },
      "source": [
        "aaplA01 = aapl['2020-01'][['Adj Close']]\n",
        "withdups = pd.concat([msftadj01[:3],aaplA01[:3]])\n",
        "withdups"
      ],
      "execution_count": 46,
      "outputs": [
        {
          "output_type": "execute_result",
          "data": {
            "text/plain": [
              "            Adj Close\n",
              "Date                 \n",
              "2020-01-02    159.352\n",
              "2020-01-03    157.368\n",
              "2020-01-06    157.775\n",
              "2020-01-02     73.840\n",
              "2020-01-03     73.122\n",
              "2020-01-06     73.705"
            ]
          },
          "metadata": {
            "tags": []
          },
          "execution_count": 46
        }
      ]
    },
    {
      "cell_type": "code",
      "metadata": {
        "id": "3WF5gdhlNXhc",
        "outputId": "1d1ad07b-1250-40e2-c2c9-d2c31856669d",
        "colab": {
          "base_uri": "https://localhost:8080/"
        }
      },
      "source": [
        "withdups.loc['2020-01-02']"
      ],
      "execution_count": 47,
      "outputs": [
        {
          "output_type": "execute_result",
          "data": {
            "text/plain": [
              "            Adj Close\n",
              "Date                 \n",
              "2020-01-02    159.352\n",
              "2020-01-02     73.840"
            ]
          },
          "metadata": {
            "tags": []
          },
          "execution_count": 47
        }
      ]
    },
    {
      "cell_type": "code",
      "metadata": {
        "id": "bgRYLuKMNj8c",
        "outputId": "5faee327-8c64-4d2b-8fb2-9b9860dfbe84",
        "colab": {
          "base_uri": "https://localhost:8080/"
        }
      },
      "source": [
        "#Multiindex can solve the problem of lost identity\n",
        "closes = pd.concat([msftadj01[:3],aaplA01[:3]],keys=['MSFT','AAPL'])\n",
        "closes"
      ],
      "execution_count": 48,
      "outputs": [
        {
          "output_type": "execute_result",
          "data": {
            "text/plain": [
              "                 Adj Close\n",
              "     Date                 \n",
              "MSFT 2020-01-02    159.352\n",
              "     2020-01-03    157.368\n",
              "     2020-01-06    157.775\n",
              "AAPL 2020-01-02     73.840\n",
              "     2020-01-03     73.122\n",
              "     2020-01-06     73.705"
            ]
          },
          "metadata": {
            "tags": []
          },
          "execution_count": 48
        }
      ]
    },
    {
      "cell_type": "code",
      "metadata": {
        "id": "Iaswov4XOQZc",
        "outputId": "218430d4-3ac8-41c6-bd4b-810ab921f0bc",
        "colab": {
          "base_uri": "https://localhost:8080/"
        }
      },
      "source": [
        "closes.loc['MSFT'][:3]"
      ],
      "execution_count": 49,
      "outputs": [
        {
          "output_type": "execute_result",
          "data": {
            "text/plain": [
              "            Adj Close\n",
              "Date                 \n",
              "2020-01-02    159.352\n",
              "2020-01-03    157.368\n",
              "2020-01-06    157.775"
            ]
          },
          "metadata": {
            "tags": []
          },
          "execution_count": 49
        }
      ]
    },
    {
      "cell_type": "code",
      "metadata": {
        "id": "_0lbi9LbOo78",
        "outputId": "f84b2a16-0911-4e59-bfa4-1cc22c43f279",
        "colab": {
          "base_uri": "https://localhost:8080/"
        }
      },
      "source": [
        "msftAdV = msft[['Adj Close','Volume']]\n",
        "aaplAdV = aapl[['Adj Close','Volume']]\n",
        "dfMerged = pd.concat([msftAdV,aaplAdV])\n",
        "dfMerged.head(20)"
      ],
      "execution_count": 50,
      "outputs": [
        {
          "output_type": "execute_result",
          "data": {
            "text/plain": [
              "            Adj Close     Volume\n",
              "Date                            \n",
              "2020-01-02    159.352  2.262e+07\n",
              "2020-01-03    157.368  2.112e+07\n",
              "2020-01-06    157.775  2.081e+07\n",
              "2020-01-07    156.336  2.163e+07\n",
              "2020-01-08    158.827  2.775e+07\n",
              "2020-01-09    160.811  2.138e+07\n",
              "2020-01-10    160.067  2.073e+07\n",
              "2020-01-13    161.991  2.163e+07\n",
              "2020-01-14    160.850  2.348e+07\n",
              "2020-01-15    161.892  2.142e+07\n",
              "2020-01-16    164.859  2.387e+07\n",
              "2020-01-17    165.781  3.437e+07\n",
              "2020-01-21    165.186  2.952e+07\n",
              "2020-01-22    164.392  2.414e+07\n",
              "2020-01-23    165.404  1.968e+07\n",
              "2020-01-24    163.738  2.492e+07\n",
              "2020-01-27    160.999  3.208e+07\n",
              "2020-01-28    164.154  2.490e+07\n",
              "2020-01-29    166.714  3.475e+07\n",
              "2020-01-30    171.416  5.160e+07"
            ]
          },
          "metadata": {
            "tags": []
          },
          "execution_count": 50
        }
      ]
    },
    {
      "cell_type": "code",
      "metadata": {
        "id": "Cx0FK801aJMB",
        "outputId": "0987aea0-53e6-4200-829f-413a997b4943",
        "colab": {
          "base_uri": "https://localhost:8080/"
        }
      },
      "source": [
        "dfMerged['2020-01-02']"
      ],
      "execution_count": 51,
      "outputs": [
        {
          "output_type": "execute_result",
          "data": {
            "text/plain": [
              "            Adj Close     Volume\n",
              "Date                            \n",
              "2020-01-02    159.352  2.262e+07\n",
              "2020-01-02     73.840  1.355e+08"
            ]
          },
          "metadata": {
            "tags": []
          },
          "execution_count": 51
        }
      ]
    },
    {
      "cell_type": "code",
      "metadata": {
        "id": "CvcRuCb6aQEZ",
        "outputId": "c48c56a6-24de-41cf-9598-1b699f0070bc",
        "colab": {
          "base_uri": "https://localhost:8080/"
        }
      },
      "source": [
        "aaplA = aapl[['Adj Close']]\n",
        "pd.concat([msftAdV,aaplA],join='inner')"
      ],
      "execution_count": 53,
      "outputs": [
        {
          "output_type": "execute_result",
          "data": {
            "text/plain": [
              "            Adj Close\n",
              "Date                 \n",
              "2020-01-02    159.352\n",
              "2020-01-03    157.368\n",
              "2020-01-06    157.775\n",
              "2020-01-07    156.336\n",
              "2020-01-08    158.827\n",
              "...               ...\n",
              "2020-11-06    118.690\n",
              "2020-11-09    116.320\n",
              "2020-11-10    115.970\n",
              "2020-11-11    119.490\n",
              "2020-11-12    119.210\n",
              "\n",
              "[440 rows x 1 columns]"
            ]
          },
          "metadata": {
            "tags": []
          },
          "execution_count": 53
        }
      ]
    },
    {
      "cell_type": "code",
      "metadata": {
        "id": "19yGn1y5c0Di",
        "outputId": "f5847c78-7c80-42a4-cdff-0a46cbf88af2",
        "colab": {
          "base_uri": "https://localhost:8080/"
        }
      },
      "source": [
        "msftA = msft[['Adj Close']]\n",
        "pd.concat([msftA,aaplA],axis=1)"
      ],
      "execution_count": 54,
      "outputs": [
        {
          "output_type": "execute_result",
          "data": {
            "text/plain": [
              "            Adj Close  Adj Close\n",
              "Date                            \n",
              "2020-01-02    159.352     73.840\n",
              "2020-01-03    157.368     73.122\n",
              "2020-01-06    157.775     73.705\n",
              "2020-01-07    156.336     73.358\n",
              "2020-01-08    158.827     74.538\n",
              "...               ...        ...\n",
              "2020-11-06    223.720    118.690\n",
              "2020-11-09    218.390    116.320\n",
              "2020-11-10    211.010    115.970\n",
              "2020-11-11    216.550    119.490\n",
              "2020-11-12    215.440    119.210\n",
              "\n",
              "[220 rows x 2 columns]"
            ]
          },
          "metadata": {
            "tags": []
          },
          "execution_count": 54
        }
      ]
    },
    {
      "cell_type": "code",
      "metadata": {
        "id": "QX0Ze14MdPW6",
        "outputId": "3d0606b2-3e13-4197-f7c2-08d961927aa4",
        "colab": {
          "base_uri": "https://localhost:8080/"
        }
      },
      "source": [
        "#MultiIndex Columns\n",
        "pd.concat([msftAdV[:5],aaplAdV[:3]],axis =1,keys=['MSFT','AAPL'])"
      ],
      "execution_count": 56,
      "outputs": [
        {
          "output_type": "execute_result",
          "data": {
            "text/plain": [
              "                MSFT                 AAPL           \n",
              "           Adj Close     Volume Adj Close     Volume\n",
              "Date                                                \n",
              "2020-01-02   159.352  2.262e+07    73.840  1.355e+08\n",
              "2020-01-03   157.368  2.112e+07    73.122  1.463e+08\n",
              "2020-01-06   157.775  2.081e+07    73.705  1.184e+08\n",
              "2020-01-07   156.336  2.163e+07       NaN        NaN\n",
              "2020-01-08   158.827  2.775e+07       NaN        NaN"
            ]
          },
          "metadata": {
            "tags": []
          },
          "execution_count": 56
        }
      ]
    },
    {
      "cell_type": "code",
      "metadata": {
        "id": "Wfq4mrcHeOaS",
        "outputId": "1da6b829-d9e9-46b2-f674-581d4f4b2bdb",
        "colab": {
          "base_uri": "https://localhost:8080/"
        }
      },
      "source": [
        "pd.concat([msftA[:5],aaplA[:4]],axis=1,join='inner',keys=['MSFT','AAPL'])"
      ],
      "execution_count": 60,
      "outputs": [
        {
          "output_type": "execute_result",
          "data": {
            "text/plain": [
              "                MSFT      AAPL\n",
              "           Adj Close Adj Close\n",
              "Date                          \n",
              "2020-01-02   159.352    73.840\n",
              "2020-01-03   157.368    73.122\n",
              "2020-01-06   157.775    73.705\n",
              "2020-01-07   156.336    73.358"
            ]
          },
          "metadata": {
            "tags": []
          },
          "execution_count": 60
        }
      ]
    },
    {
      "cell_type": "code",
      "metadata": {
        "id": "UivWN48De62a",
        "outputId": "c9146457-5fe8-4574-8a3b-3fae7230aaaf",
        "colab": {
          "base_uri": "https://localhost:8080/"
        }
      },
      "source": [
        "pd.concat([msftA[:3],aaplA[:6]],axis=0,ignore_index=True,keys=['MSFT','AAPL'])"
      ],
      "execution_count": 62,
      "outputs": [
        {
          "output_type": "execute_result",
          "data": {
            "text/plain": [
              "   Adj Close\n",
              "0    159.352\n",
              "1    157.368\n",
              "2    157.775\n",
              "3     73.840\n",
              "4     73.122\n",
              "5     73.705\n",
              "6     73.358\n",
              "7     74.538\n",
              "8     76.121"
            ]
          },
          "metadata": {
            "tags": []
          },
          "execution_count": 62
        }
      ]
    },
    {
      "cell_type": "code",
      "metadata": {
        "id": "_J-JiTMDf1fq"
      },
      "source": [
        ""
      ],
      "execution_count": null,
      "outputs": []
    },
    {
      "cell_type": "code",
      "metadata": {
        "id": "P55Y_oxSfyp6"
      },
      "source": [
        ""
      ],
      "execution_count": null,
      "outputs": []
    },
    {
      "cell_type": "code",
      "metadata": {
        "id": "ucf3MGcDe42p"
      },
      "source": [
        ""
      ],
      "execution_count": null,
      "outputs": []
    },
    {
      "cell_type": "code",
      "metadata": {
        "id": "x60hNHBme3th"
      },
      "source": [
        ""
      ],
      "execution_count": null,
      "outputs": []
    },
    {
      "cell_type": "code",
      "metadata": {
        "id": "1ZD7Um6NevMZ"
      },
      "source": [
        ""
      ],
      "execution_count": null,
      "outputs": []
    },
    {
      "cell_type": "code",
      "metadata": {
        "id": "ppg-atlpeMMi"
      },
      "source": [
        ""
      ],
      "execution_count": null,
      "outputs": []
    },
    {
      "cell_type": "code",
      "metadata": {
        "id": "4jcoQutNaHDJ"
      },
      "source": [
        ""
      ],
      "execution_count": 52,
      "outputs": []
    },
    {
      "cell_type": "code",
      "metadata": {
        "id": "ENDemz47Z4Tp"
      },
      "source": [
        ""
      ],
      "execution_count": 52,
      "outputs": []
    },
    {
      "cell_type": "code",
      "metadata": {
        "id": "O71a_eC8Z0cB"
      },
      "source": [
        ""
      ],
      "execution_count": 52,
      "outputs": []
    },
    {
      "cell_type": "code",
      "metadata": {
        "id": "MV1kWc3wZi-R"
      },
      "source": [
        ""
      ],
      "execution_count": 52,
      "outputs": []
    },
    {
      "cell_type": "code",
      "metadata": {
        "id": "GQOSnWSHZgGZ"
      },
      "source": [
        ""
      ],
      "execution_count": 52,
      "outputs": []
    },
    {
      "cell_type": "code",
      "metadata": {
        "id": "lLCGP23RZeSa"
      },
      "source": [
        ""
      ],
      "execution_count": 52,
      "outputs": []
    },
    {
      "cell_type": "code",
      "metadata": {
        "id": "_Jf0pe4CZaA6"
      },
      "source": [
        ""
      ],
      "execution_count": 52,
      "outputs": []
    },
    {
      "cell_type": "code",
      "metadata": {
        "id": "LFf6DLZdZVmy"
      },
      "source": [
        ""
      ],
      "execution_count": 52,
      "outputs": []
    },
    {
      "cell_type": "code",
      "metadata": {
        "id": "qmdJg3tuZNmu"
      },
      "source": [
        ""
      ],
      "execution_count": 52,
      "outputs": []
    },
    {
      "cell_type": "code",
      "metadata": {
        "id": "qNx_LPsmOhCE"
      },
      "source": [
        ""
      ],
      "execution_count": 52,
      "outputs": []
    },
    {
      "cell_type": "code",
      "metadata": {
        "id": "_pSky6fUOcd8"
      },
      "source": [
        ""
      ],
      "execution_count": 52,
      "outputs": []
    },
    {
      "cell_type": "code",
      "metadata": {
        "id": "X6Mq1u1nOZlU"
      },
      "source": [
        ""
      ],
      "execution_count": 52,
      "outputs": []
    },
    {
      "cell_type": "code",
      "metadata": {
        "id": "iFNcTm_POYTU"
      },
      "source": [
        ""
      ],
      "execution_count": 52,
      "outputs": []
    },
    {
      "cell_type": "code",
      "metadata": {
        "id": "Z6qIoBnGOO18"
      },
      "source": [
        ""
      ],
      "execution_count": 52,
      "outputs": []
    },
    {
      "cell_type": "code",
      "metadata": {
        "id": "RXcX3yoUOMlU"
      },
      "source": [
        ""
      ],
      "execution_count": 52,
      "outputs": []
    },
    {
      "cell_type": "code",
      "metadata": {
        "id": "fRf06olEOJUE"
      },
      "source": [
        ""
      ],
      "execution_count": 52,
      "outputs": []
    },
    {
      "cell_type": "code",
      "metadata": {
        "id": "SUBiUIdgNgc0"
      },
      "source": [
        ""
      ],
      "execution_count": 52,
      "outputs": []
    },
    {
      "cell_type": "code",
      "metadata": {
        "id": "knJnm2tDLjlb"
      },
      "source": [
        ""
      ],
      "execution_count": 52,
      "outputs": []
    },
    {
      "cell_type": "code",
      "metadata": {
        "id": "GfFQnKHRLJO8"
      },
      "source": [
        ""
      ],
      "execution_count": 52,
      "outputs": []
    }
  ]
}