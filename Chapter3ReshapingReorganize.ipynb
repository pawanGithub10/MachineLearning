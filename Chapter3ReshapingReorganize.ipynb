{
  "nbformat": 4,
  "nbformat_minor": 0,
  "metadata": {
    "colab": {
      "name": "Chapter3ReshapingReorganize.ipynb",
      "provenance": [],
      "authorship_tag": "ABX9TyOmPG9K7lNsUlsiwHswjfnF",
      "include_colab_link": true
    },
    "kernelspec": {
      "name": "python3",
      "display_name": "Python 3"
    }
  },
  "cells": [
    {
      "cell_type": "markdown",
      "metadata": {
        "id": "view-in-github",
        "colab_type": "text"
      },
      "source": [
        "<a href=\"https://colab.research.google.com/github/pawanGithub10/MachineLearning/blob/main/Chapter3ReshapingReorganize.ipynb\" target=\"_parent\"><img src=\"https://colab.research.google.com/assets/colab-badge.svg\" alt=\"Open In Colab\"/></a>"
      ]
    },
    {
      "cell_type": "code",
      "metadata": {
        "id": "VCSbIUdFFUrH"
      },
      "source": [
        "import pandas as pd \n",
        "import numpy as np\n",
        "import datetime\n",
        "import matplotlib.pyplot as plt\n",
        "%matplotlib inline\n",
        "pd.set_option('display.notebook_repr_html',False)\n",
        "pd.set_option('display.max_columns',15)\n",
        "pd.set_option('precision',3)\n",
        "pd.set_option('display.max_rows',20)\n"
      ],
      "execution_count": 40,
      "outputs": []
    },
    {
      "cell_type": "code",
      "metadata": {
        "id": "aQC1k9gSaDEB"
      },
      "source": [
        ""
      ],
      "execution_count": 40,
      "outputs": []
    },
    {
      "cell_type": "code",
      "metadata": {
        "id": "auNXDAI_G85N"
      },
      "source": [
        "import pandas_datareader.data as web\n",
        "\n",
        "start = datetime.datetime(2020,1,1)\n",
        "end = datetime.datetime(2020,11,12)\n",
        "\n",
        "msft = web.DataReader('MSFT','yahoo',start,end)\n",
        "aapl = web.DataReader('AAPL','yahoo',start,end)"
      ],
      "execution_count": 41,
      "outputs": []
    },
    {
      "cell_type": "code",
      "metadata": {
        "id": "X4JyehTJINWD",
        "outputId": "3dee1bd1-f0e2-4b82-924e-f9d281765c97",
        "colab": {
          "base_uri": "https://localhost:8080/"
        }
      },
      "source": [
        "msft[:3]"
      ],
      "execution_count": 42,
      "outputs": [
        {
          "output_type": "execute_result",
          "data": {
            "text/plain": [
              "              High     Low    Open   Close     Volume  Adj Close\n",
              "Date                                                            \n",
              "2020-01-02  160.73  158.33  158.78  160.62  2.262e+07    159.352\n",
              "2020-01-03  159.95  158.06  158.32  158.62  2.112e+07    157.368\n",
              "2020-01-06  159.10  156.51  157.08  159.03  2.081e+07    157.775"
            ]
          },
          "metadata": {
            "tags": []
          },
          "execution_count": 42
        }
      ]
    },
    {
      "cell_type": "code",
      "metadata": {
        "id": "ZfTt1SjoJ4wL",
        "outputId": "336170cf-0acd-4390-a2ad-3550b8df8e4b",
        "colab": {
          "base_uri": "https://localhost:8080/"
        }
      },
      "source": [
        "aapl[:3]"
      ],
      "execution_count": 43,
      "outputs": [
        {
          "output_type": "execute_result",
          "data": {
            "text/plain": [
              "              High     Low    Open   Close     Volume  Adj Close\n",
              "Date                                                            \n",
              "2020-01-02  75.150  73.798  74.060  75.088  1.355e+08     73.840\n",
              "2020-01-03  75.145  74.125  74.287  74.357  1.463e+08     73.122\n",
              "2020-01-06  74.990  73.188  73.448  74.950  1.184e+08     73.705"
            ]
          },
          "metadata": {
            "tags": []
          },
          "execution_count": 43
        }
      ]
    },
    {
      "cell_type": "code",
      "metadata": {
        "id": "8R-Q9oatJ868"
      },
      "source": [
        "#Reorganizing and reshaping the data\n",
        "msftadj01 = msft['2020-01'][['Adj Close']]\n",
        "msftadj05 = msft['2020-05'][['Adj Close']]"
      ],
      "execution_count": 44,
      "outputs": []
    },
    {
      "cell_type": "code",
      "metadata": {
        "id": "qGUt4K-NHk6p",
        "outputId": "18bec25f-4761-4672-e4d7-e997ef268112",
        "colab": {
          "base_uri": "https://localhost:8080/"
        }
      },
      "source": [
        "msftadj01[0:3]"
      ],
      "execution_count": 45,
      "outputs": [
        {
          "output_type": "execute_result",
          "data": {
            "text/plain": [
              "            Adj Close\n",
              "Date                 \n",
              "2020-01-02    159.352\n",
              "2020-01-03    157.368\n",
              "2020-01-06    157.775"
            ]
          },
          "metadata": {
            "tags": []
          },
          "execution_count": 45
        }
      ]
    },
    {
      "cell_type": "code",
      "metadata": {
        "id": "KzC8o7v4LD4U",
        "outputId": "c2fc5842-4f9c-4749-a574-ccaf5e0b1a9f",
        "colab": {
          "base_uri": "https://localhost:8080/"
        }
      },
      "source": [
        "msftadj05[0:30]"
      ],
      "execution_count": 46,
      "outputs": [
        {
          "output_type": "execute_result",
          "data": {
            "text/plain": [
              "            Adj Close\n",
              "Date                 \n",
              "2020-05-01    173.665\n",
              "2020-05-04    177.913\n",
              "2020-05-05    179.823\n",
              "2020-05-06    181.594\n",
              "2020-05-07    182.649\n",
              "2020-05-08    183.723\n",
              "2020-05-11    185.772\n",
              "2020-05-12    181.564\n",
              "2020-05-13    178.819\n",
              "2020-05-14    179.594\n",
              "2020-05-15    182.211\n",
              "2020-05-18    183.952\n",
              "2020-05-19    182.678\n",
              "2020-05-20    185.212\n",
              "2020-05-21    182.988\n",
              "2020-05-22    183.067\n",
              "2020-05-26    181.132\n",
              "2020-05-27    181.372\n",
              "2020-05-28    180.963\n",
              "2020-05-29    182.808"
            ]
          },
          "metadata": {
            "tags": []
          },
          "execution_count": 46
        }
      ]
    },
    {
      "cell_type": "code",
      "metadata": {
        "id": "1S5hK9xLLM58",
        "outputId": "af7bf864-5619-4350-be50-f285064de094",
        "colab": {
          "base_uri": "https://localhost:8080/"
        }
      },
      "source": [
        "pd.concat([msftadj01.head(5),msftadj05.head(5)])"
      ],
      "execution_count": 47,
      "outputs": [
        {
          "output_type": "execute_result",
          "data": {
            "text/plain": [
              "            Adj Close\n",
              "Date                 \n",
              "2020-01-02    159.352\n",
              "2020-01-03    157.368\n",
              "2020-01-06    157.775\n",
              "2020-01-07    156.336\n",
              "2020-01-08    158.827\n",
              "2020-05-01    173.665\n",
              "2020-05-04    177.913\n",
              "2020-05-05    179.823\n",
              "2020-05-06    181.594\n",
              "2020-05-07    182.649"
            ]
          },
          "metadata": {
            "tags": []
          },
          "execution_count": 47
        }
      ]
    },
    {
      "cell_type": "code",
      "metadata": {
        "id": "D_ovkEvKMEXc",
        "outputId": "fa7142f5-8986-4dff-a26d-1fa4c1f169ae",
        "colab": {
          "base_uri": "https://localhost:8080/"
        }
      },
      "source": [
        "aaplA01 = aapl['2020-01'][['Adj Close']]\n",
        "withdups = pd.concat([msftadj01[:3],aaplA01[:3]])\n",
        "withdups"
      ],
      "execution_count": 48,
      "outputs": [
        {
          "output_type": "execute_result",
          "data": {
            "text/plain": [
              "            Adj Close\n",
              "Date                 \n",
              "2020-01-02    159.352\n",
              "2020-01-03    157.368\n",
              "2020-01-06    157.775\n",
              "2020-01-02     73.840\n",
              "2020-01-03     73.122\n",
              "2020-01-06     73.705"
            ]
          },
          "metadata": {
            "tags": []
          },
          "execution_count": 48
        }
      ]
    },
    {
      "cell_type": "code",
      "metadata": {
        "id": "3WF5gdhlNXhc",
        "outputId": "68f357a1-9f22-41f1-ddff-9c4533ede970",
        "colab": {
          "base_uri": "https://localhost:8080/"
        }
      },
      "source": [
        "withdups.loc['2020-01-02']"
      ],
      "execution_count": 49,
      "outputs": [
        {
          "output_type": "execute_result",
          "data": {
            "text/plain": [
              "            Adj Close\n",
              "Date                 \n",
              "2020-01-02    159.352\n",
              "2020-01-02     73.840"
            ]
          },
          "metadata": {
            "tags": []
          },
          "execution_count": 49
        }
      ]
    },
    {
      "cell_type": "code",
      "metadata": {
        "id": "bgRYLuKMNj8c",
        "outputId": "a2bd0b3b-7a19-49bd-9637-40f5b72a8c58",
        "colab": {
          "base_uri": "https://localhost:8080/"
        }
      },
      "source": [
        "#Multiindex can solve the problem of lost identity\n",
        "closes = pd.concat([msftadj01[:3],aaplA01[:3]],keys=['MSFT','AAPL'])\n",
        "closes"
      ],
      "execution_count": 50,
      "outputs": [
        {
          "output_type": "execute_result",
          "data": {
            "text/plain": [
              "                 Adj Close\n",
              "     Date                 \n",
              "MSFT 2020-01-02    159.352\n",
              "     2020-01-03    157.368\n",
              "     2020-01-06    157.775\n",
              "AAPL 2020-01-02     73.840\n",
              "     2020-01-03     73.122\n",
              "     2020-01-06     73.705"
            ]
          },
          "metadata": {
            "tags": []
          },
          "execution_count": 50
        }
      ]
    },
    {
      "cell_type": "code",
      "metadata": {
        "id": "Iaswov4XOQZc",
        "outputId": "bbd3dc42-bf3c-4567-94cc-8eaf144f725b",
        "colab": {
          "base_uri": "https://localhost:8080/"
        }
      },
      "source": [
        "closes.loc['MSFT'][:3]"
      ],
      "execution_count": 51,
      "outputs": [
        {
          "output_type": "execute_result",
          "data": {
            "text/plain": [
              "            Adj Close\n",
              "Date                 \n",
              "2020-01-02    159.352\n",
              "2020-01-03    157.368\n",
              "2020-01-06    157.775"
            ]
          },
          "metadata": {
            "tags": []
          },
          "execution_count": 51
        }
      ]
    },
    {
      "cell_type": "code",
      "metadata": {
        "id": "_0lbi9LbOo78",
        "outputId": "45a2a01d-acc4-42dc-c293-ba39b809d0b4",
        "colab": {
          "base_uri": "https://localhost:8080/"
        }
      },
      "source": [
        "msftAdV = msft[['Adj Close','Volume']]\n",
        "aaplAdV = aapl[['Adj Close','Volume']]\n",
        "dfMerged = pd.concat([msftAdV,aaplAdV])\n",
        "dfMerged.head(20)"
      ],
      "execution_count": 52,
      "outputs": [
        {
          "output_type": "execute_result",
          "data": {
            "text/plain": [
              "            Adj Close     Volume\n",
              "Date                            \n",
              "2020-01-02    159.352  2.262e+07\n",
              "2020-01-03    157.368  2.112e+07\n",
              "2020-01-06    157.775  2.081e+07\n",
              "2020-01-07    156.336  2.163e+07\n",
              "2020-01-08    158.827  2.775e+07\n",
              "2020-01-09    160.811  2.138e+07\n",
              "2020-01-10    160.067  2.073e+07\n",
              "2020-01-13    161.991  2.163e+07\n",
              "2020-01-14    160.850  2.348e+07\n",
              "2020-01-15    161.892  2.142e+07\n",
              "2020-01-16    164.859  2.387e+07\n",
              "2020-01-17    165.781  3.437e+07\n",
              "2020-01-21    165.186  2.952e+07\n",
              "2020-01-22    164.392  2.414e+07\n",
              "2020-01-23    165.404  1.968e+07\n",
              "2020-01-24    163.738  2.492e+07\n",
              "2020-01-27    160.999  3.208e+07\n",
              "2020-01-28    164.154  2.490e+07\n",
              "2020-01-29    166.714  3.475e+07\n",
              "2020-01-30    171.416  5.160e+07"
            ]
          },
          "metadata": {
            "tags": []
          },
          "execution_count": 52
        }
      ]
    },
    {
      "cell_type": "code",
      "metadata": {
        "id": "Cx0FK801aJMB",
        "outputId": "7ca930e4-03d4-497e-b310-dc81c4c1a47f",
        "colab": {
          "base_uri": "https://localhost:8080/"
        }
      },
      "source": [
        "dfMerged['2020-01-02']"
      ],
      "execution_count": 53,
      "outputs": [
        {
          "output_type": "execute_result",
          "data": {
            "text/plain": [
              "            Adj Close     Volume\n",
              "Date                            \n",
              "2020-01-02    159.352  2.262e+07\n",
              "2020-01-02     73.840  1.355e+08"
            ]
          },
          "metadata": {
            "tags": []
          },
          "execution_count": 53
        }
      ]
    },
    {
      "cell_type": "code",
      "metadata": {
        "id": "CvcRuCb6aQEZ",
        "outputId": "3d2cd04b-6797-4311-9b07-e41b6917ee4e",
        "colab": {
          "base_uri": "https://localhost:8080/"
        }
      },
      "source": [
        "aaplA = aapl[['Adj Close']]\n",
        "pd.concat([msftAdV,aaplA],join='inner')"
      ],
      "execution_count": 54,
      "outputs": [
        {
          "output_type": "execute_result",
          "data": {
            "text/plain": [
              "            Adj Close\n",
              "Date                 \n",
              "2020-01-02    159.352\n",
              "2020-01-03    157.368\n",
              "2020-01-06    157.775\n",
              "2020-01-07    156.336\n",
              "2020-01-08    158.827\n",
              "...               ...\n",
              "2020-11-06    118.690\n",
              "2020-11-09    116.320\n",
              "2020-11-10    115.970\n",
              "2020-11-11    119.490\n",
              "2020-11-12    119.210\n",
              "\n",
              "[440 rows x 1 columns]"
            ]
          },
          "metadata": {
            "tags": []
          },
          "execution_count": 54
        }
      ]
    },
    {
      "cell_type": "code",
      "metadata": {
        "id": "19yGn1y5c0Di",
        "outputId": "2327f769-ac1e-4690-c036-809a0de7e50a",
        "colab": {
          "base_uri": "https://localhost:8080/"
        }
      },
      "source": [
        "msftA = msft[['Adj Close']]\n",
        "pd.concat([msftA,aaplA],axis=1)"
      ],
      "execution_count": 55,
      "outputs": [
        {
          "output_type": "execute_result",
          "data": {
            "text/plain": [
              "            Adj Close  Adj Close\n",
              "Date                            \n",
              "2020-01-02    159.352     73.840\n",
              "2020-01-03    157.368     73.122\n",
              "2020-01-06    157.775     73.705\n",
              "2020-01-07    156.336     73.358\n",
              "2020-01-08    158.827     74.538\n",
              "...               ...        ...\n",
              "2020-11-06    223.720    118.690\n",
              "2020-11-09    218.390    116.320\n",
              "2020-11-10    211.010    115.970\n",
              "2020-11-11    216.550    119.490\n",
              "2020-11-12    215.440    119.210\n",
              "\n",
              "[220 rows x 2 columns]"
            ]
          },
          "metadata": {
            "tags": []
          },
          "execution_count": 55
        }
      ]
    },
    {
      "cell_type": "code",
      "metadata": {
        "id": "QX0Ze14MdPW6",
        "outputId": "7e49e67b-78ca-471e-c00c-b420bcfb43aa",
        "colab": {
          "base_uri": "https://localhost:8080/"
        }
      },
      "source": [
        "#MultiIndex Columns\n",
        "pd.concat([msftAdV[:5],aaplAdV[:3]],axis =1,keys=['MSFT','AAPL'])"
      ],
      "execution_count": 56,
      "outputs": [
        {
          "output_type": "execute_result",
          "data": {
            "text/plain": [
              "                MSFT                 AAPL           \n",
              "           Adj Close     Volume Adj Close     Volume\n",
              "Date                                                \n",
              "2020-01-02   159.352  2.262e+07    73.840  1.355e+08\n",
              "2020-01-03   157.368  2.112e+07    73.122  1.463e+08\n",
              "2020-01-06   157.775  2.081e+07    73.705  1.184e+08\n",
              "2020-01-07   156.336  2.163e+07       NaN        NaN\n",
              "2020-01-08   158.827  2.775e+07       NaN        NaN"
            ]
          },
          "metadata": {
            "tags": []
          },
          "execution_count": 56
        }
      ]
    },
    {
      "cell_type": "code",
      "metadata": {
        "id": "Wfq4mrcHeOaS",
        "outputId": "4e04c9c8-89e7-4d2a-d8c3-2fde6d4f323c",
        "colab": {
          "base_uri": "https://localhost:8080/"
        }
      },
      "source": [
        "pd.concat([msftA[:5],aaplA[:4]],axis=1,join='inner',keys=['MSFT','AAPL'])"
      ],
      "execution_count": 57,
      "outputs": [
        {
          "output_type": "execute_result",
          "data": {
            "text/plain": [
              "                MSFT      AAPL\n",
              "           Adj Close Adj Close\n",
              "Date                          \n",
              "2020-01-02   159.352    73.840\n",
              "2020-01-03   157.368    73.122\n",
              "2020-01-06   157.775    73.705\n",
              "2020-01-07   156.336    73.358"
            ]
          },
          "metadata": {
            "tags": []
          },
          "execution_count": 57
        }
      ]
    },
    {
      "cell_type": "code",
      "metadata": {
        "id": "UivWN48De62a",
        "outputId": "b46bd6ef-e57f-4b03-feb8-cf01dced65e5",
        "colab": {
          "base_uri": "https://localhost:8080/"
        }
      },
      "source": [
        "pd.concat([msftA[:3],aaplA[:6]],axis=0,ignore_index=True,keys=['MSFT','AAPL'])"
      ],
      "execution_count": 58,
      "outputs": [
        {
          "output_type": "execute_result",
          "data": {
            "text/plain": [
              "   Adj Close\n",
              "0    159.352\n",
              "1    157.368\n",
              "2    157.775\n",
              "3     73.840\n",
              "4     73.122\n",
              "5     73.705\n",
              "6     73.358\n",
              "7     74.538\n",
              "8     76.121"
            ]
          },
          "metadata": {
            "tags": []
          },
          "execution_count": 58
        }
      ]
    },
    {
      "cell_type": "code",
      "metadata": {
        "id": "_J-JiTMDf1fq",
        "outputId": "2a4fae79-f307-4189-94b4-19a657cfd0ee",
        "colab": {
          "base_uri": "https://localhost:8080/"
        }
      },
      "source": [
        "#Merge DataFrame Objects\n",
        "msftAR = msftA.reset_index()\n",
        "msftAR"
      ],
      "execution_count": 59,
      "outputs": [
        {
          "output_type": "execute_result",
          "data": {
            "text/plain": [
              "          Date  Adj Close\n",
              "0   2020-01-02    159.352\n",
              "1   2020-01-03    157.368\n",
              "2   2020-01-06    157.775\n",
              "3   2020-01-07    156.336\n",
              "4   2020-01-08    158.827\n",
              "..         ...        ...\n",
              "215 2020-11-06    223.720\n",
              "216 2020-11-09    218.390\n",
              "217 2020-11-10    211.010\n",
              "218 2020-11-11    216.550\n",
              "219 2020-11-12    215.440\n",
              "\n",
              "[220 rows x 2 columns]"
            ]
          },
          "metadata": {
            "tags": []
          },
          "execution_count": 59
        }
      ]
    },
    {
      "cell_type": "code",
      "metadata": {
        "id": "Ysh8xaCLeUCp",
        "outputId": "7f51ffa8-7280-4883-81e3-0a4a169074cf",
        "colab": {
          "base_uri": "https://localhost:8080/"
        }
      },
      "source": [
        "msftVR = msftAdV[['Volume']].reset_index()\n",
        "msftVR"
      ],
      "execution_count": 60,
      "outputs": [
        {
          "output_type": "execute_result",
          "data": {
            "text/plain": [
              "          Date     Volume\n",
              "0   2020-01-02  2.262e+07\n",
              "1   2020-01-03  2.112e+07\n",
              "2   2020-01-06  2.081e+07\n",
              "3   2020-01-07  2.163e+07\n",
              "4   2020-01-08  2.775e+07\n",
              "..         ...        ...\n",
              "215 2020-11-06  2.523e+07\n",
              "216 2020-11-09  4.440e+07\n",
              "217 2020-11-10  4.405e+07\n",
              "218 2020-11-11  2.944e+07\n",
              "219 2020-11-12  2.159e+07\n",
              "\n",
              "[220 rows x 2 columns]"
            ]
          },
          "metadata": {
            "tags": []
          },
          "execution_count": 60
        }
      ]
    },
    {
      "cell_type": "code",
      "metadata": {
        "id": "SqPKv2jReh0w",
        "outputId": "164216d7-4ee8-49f8-abe5-e4b5abb24c4b",
        "colab": {
          "base_uri": "https://localhost:8080/"
        }
      },
      "source": [
        "msftMVR = pd.merge(msftAR,msftVR)\n",
        "msftMVR"
      ],
      "execution_count": 61,
      "outputs": [
        {
          "output_type": "execute_result",
          "data": {
            "text/plain": [
              "          Date  Adj Close     Volume\n",
              "0   2020-01-02    159.352  2.262e+07\n",
              "1   2020-01-03    157.368  2.112e+07\n",
              "2   2020-01-06    157.775  2.081e+07\n",
              "3   2020-01-07    156.336  2.163e+07\n",
              "4   2020-01-08    158.827  2.775e+07\n",
              "..         ...        ...        ...\n",
              "215 2020-11-06    223.720  2.523e+07\n",
              "216 2020-11-09    218.390  4.440e+07\n",
              "217 2020-11-10    211.010  4.405e+07\n",
              "218 2020-11-11    216.550  2.944e+07\n",
              "219 2020-11-12    215.440  2.159e+07\n",
              "\n",
              "[220 rows x 3 columns]"
            ]
          },
          "metadata": {
            "tags": []
          },
          "execution_count": 61
        }
      ]
    },
    {
      "cell_type": "code",
      "metadata": {
        "id": "9B30xg_sexaJ",
        "outputId": "730ed619-2757-4ea6-d3b2-8351f6cece66",
        "colab": {
          "base_uri": "https://localhost:8080/"
        }
      },
      "source": [
        "#Pivoting.\n",
        "#Generally the time series data come in repeated time format.\n",
        "msft.insert(0,'Symbol','MSFT')\n",
        "aapl.insert(0,'Symbol','AAPL')\n",
        "combined = pd.concat([msft,aapl]).sort_index()\n",
        "combined"
      ],
      "execution_count": 62,
      "outputs": [
        {
          "output_type": "execute_result",
          "data": {
            "text/plain": [
              "           Symbol     High      Low     Open    Close     Volume  Adj Close\n",
              "Date                                                                       \n",
              "2020-01-02   MSFT  160.730  158.330  158.780  160.620  2.262e+07    159.352\n",
              "2020-01-02   AAPL   75.150   73.798   74.060   75.088  1.355e+08     73.840\n",
              "2020-01-03   MSFT  159.950  158.060  158.320  158.620  2.112e+07    157.368\n",
              "2020-01-03   AAPL   75.145   74.125   74.287   74.357  1.463e+08     73.122\n",
              "2020-01-06   MSFT  159.100  156.510  157.080  159.030  2.081e+07    157.775\n",
              "...           ...      ...      ...      ...      ...        ...        ...\n",
              "2020-11-10   MSFT  216.500  209.720  214.500  211.010  4.405e+07    211.010\n",
              "2020-11-11   AAPL  119.630  116.440  117.190  119.490  1.123e+08    119.490\n",
              "2020-11-11   MSFT  218.040  212.200  212.390  216.550  2.944e+07    216.550\n",
              "2020-11-12   MSFT  219.110  214.460  217.210  215.440  2.159e+07    215.440\n",
              "2020-11-12   AAPL  120.530  118.570  119.620  119.210  1.032e+08    119.210\n",
              "\n",
              "[440 rows x 7 columns]"
            ]
          },
          "metadata": {
            "tags": []
          },
          "execution_count": 62
        }
      ]
    },
    {
      "cell_type": "code",
      "metadata": {
        "id": "3negyIbnptiH",
        "outputId": "c1b3378b-a80d-497e-d194-ac52c633a88e",
        "colab": {
          "base_uri": "https://localhost:8080/"
        }
      },
      "source": [
        "combinedRIndex = combined.reset_index()\n",
        "combinedRIndex"
      ],
      "execution_count": 63,
      "outputs": [
        {
          "output_type": "execute_result",
          "data": {
            "text/plain": [
              "          Date Symbol     High      Low     Open    Close     Volume  \\\n",
              "0   2020-01-02   MSFT  160.730  158.330  158.780  160.620  2.262e+07   \n",
              "1   2020-01-02   AAPL   75.150   73.798   74.060   75.088  1.355e+08   \n",
              "2   2020-01-03   MSFT  159.950  158.060  158.320  158.620  2.112e+07   \n",
              "3   2020-01-03   AAPL   75.145   74.125   74.287   74.357  1.463e+08   \n",
              "4   2020-01-06   MSFT  159.100  156.510  157.080  159.030  2.081e+07   \n",
              "..         ...    ...      ...      ...      ...      ...        ...   \n",
              "435 2020-11-10   MSFT  216.500  209.720  214.500  211.010  4.405e+07   \n",
              "436 2020-11-11   AAPL  119.630  116.440  117.190  119.490  1.123e+08   \n",
              "437 2020-11-11   MSFT  218.040  212.200  212.390  216.550  2.944e+07   \n",
              "438 2020-11-12   MSFT  219.110  214.460  217.210  215.440  2.159e+07   \n",
              "439 2020-11-12   AAPL  120.530  118.570  119.620  119.210  1.032e+08   \n",
              "\n",
              "     Adj Close  \n",
              "0      159.352  \n",
              "1       73.840  \n",
              "2      157.368  \n",
              "3       73.122  \n",
              "4      157.775  \n",
              "..         ...  \n",
              "435    211.010  \n",
              "436    119.490  \n",
              "437    216.550  \n",
              "438    215.440  \n",
              "439    119.210  \n",
              "\n",
              "[440 rows x 8 columns]"
            ]
          },
          "metadata": {
            "tags": []
          },
          "execution_count": 63
        }
      ]
    },
    {
      "cell_type": "code",
      "metadata": {
        "id": "KcLpaduXp3BD",
        "outputId": "e600a230-4cca-4c14-9cf7-9b00dde38d34",
        "colab": {
          "base_uri": "https://localhost:8080/"
        }
      },
      "source": [
        "stocksClose = combinedRIndex.pivot(index='Date',columns='Symbol',values='Adj Close')\n",
        "stocksClose"
      ],
      "execution_count": 64,
      "outputs": [
        {
          "output_type": "execute_result",
          "data": {
            "text/plain": [
              "Symbol         AAPL     MSFT\n",
              "Date                        \n",
              "2020-01-02   73.840  159.352\n",
              "2020-01-03   73.122  157.368\n",
              "2020-01-06   73.705  157.775\n",
              "2020-01-07   73.358  156.336\n",
              "2020-01-08   74.538  158.827\n",
              "...             ...      ...\n",
              "2020-11-06  118.690  223.720\n",
              "2020-11-09  116.320  218.390\n",
              "2020-11-10  115.970  211.010\n",
              "2020-11-11  119.490  216.550\n",
              "2020-11-12  119.210  215.440\n",
              "\n",
              "[220 rows x 2 columns]"
            ]
          },
          "metadata": {
            "tags": []
          },
          "execution_count": 64
        }
      ]
    },
    {
      "cell_type": "code",
      "metadata": {
        "id": "ICRxncP0wqJc",
        "outputId": "71b1096d-129f-45b3-9e96-b0e6158d569e",
        "colab": {
          "base_uri": "https://localhost:8080/"
        }
      },
      "source": [
        "stocksClose.index"
      ],
      "execution_count": 65,
      "outputs": [
        {
          "output_type": "execute_result",
          "data": {
            "text/plain": [
              "DatetimeIndex(['2020-01-02', '2020-01-03', '2020-01-06', '2020-01-07',\n",
              "               '2020-01-08', '2020-01-09', '2020-01-10', '2020-01-13',\n",
              "               '2020-01-14', '2020-01-15',\n",
              "               ...\n",
              "               '2020-10-30', '2020-11-02', '2020-11-03', '2020-11-04',\n",
              "               '2020-11-05', '2020-11-06', '2020-11-09', '2020-11-10',\n",
              "               '2020-11-11', '2020-11-12'],\n",
              "              dtype='datetime64[ns]', name='Date', length=220, freq=None)"
            ]
          },
          "metadata": {
            "tags": []
          },
          "execution_count": 65
        }
      ]
    },
    {
      "cell_type": "code",
      "metadata": {
        "id": "1pvjHL0uwt5c"
      },
      "source": [
        "stackedStockClose = stocksClose.stack()"
      ],
      "execution_count": 66,
      "outputs": []
    },
    {
      "cell_type": "code",
      "metadata": {
        "id": "q6vIns132AEz",
        "outputId": "667899ba-d41c-40a3-92ec-74bad0f8aa15",
        "colab": {
          "base_uri": "https://localhost:8080/"
        }
      },
      "source": [
        "stackedStockClose.loc['2020-01-06']"
      ],
      "execution_count": 70,
      "outputs": [
        {
          "output_type": "execute_result",
          "data": {
            "text/plain": [
              "Date        Symbol\n",
              "2020-01-06  AAPL       73.705\n",
              "            MSFT      157.775\n",
              "dtype: float64"
            ]
          },
          "metadata": {
            "tags": []
          },
          "execution_count": 70
        }
      ]
    },
    {
      "cell_type": "code",
      "metadata": {
        "id": "mne8s8Xs9BjI"
      },
      "source": [
        ""
      ],
      "execution_count": null,
      "outputs": []
    },
    {
      "cell_type": "code",
      "metadata": {
        "id": "tQd0bBR-9ASK"
      },
      "source": [
        ""
      ],
      "execution_count": null,
      "outputs": []
    },
    {
      "cell_type": "code",
      "metadata": {
        "id": "Ny6Gab-t29RY"
      },
      "source": [
        ""
      ],
      "execution_count": null,
      "outputs": []
    },
    {
      "cell_type": "code",
      "metadata": {
        "id": "9pqQYwq222oG"
      },
      "source": [
        ""
      ],
      "execution_count": null,
      "outputs": []
    },
    {
      "cell_type": "code",
      "metadata": {
        "id": "A36tXfKQ2tZ5"
      },
      "source": [
        ""
      ],
      "execution_count": null,
      "outputs": []
    },
    {
      "cell_type": "code",
      "metadata": {
        "id": "X9Uq8VPG2p-u"
      },
      "source": [
        ""
      ],
      "execution_count": null,
      "outputs": []
    },
    {
      "cell_type": "code",
      "metadata": {
        "id": "8tO1yNSW2lMO"
      },
      "source": [
        ""
      ],
      "execution_count": null,
      "outputs": []
    },
    {
      "cell_type": "code",
      "metadata": {
        "id": "RTRybhxH2hBG"
      },
      "source": [
        ""
      ],
      "execution_count": null,
      "outputs": []
    },
    {
      "cell_type": "code",
      "metadata": {
        "id": "DJ9bNaxs2cte"
      },
      "source": [
        ""
      ],
      "execution_count": null,
      "outputs": []
    },
    {
      "cell_type": "code",
      "metadata": {
        "id": "33F3R2Fi2Xzw"
      },
      "source": [
        ""
      ],
      "execution_count": null,
      "outputs": []
    },
    {
      "cell_type": "code",
      "metadata": {
        "id": "G9BqDjOiwnmi"
      },
      "source": [
        ""
      ],
      "execution_count": null,
      "outputs": []
    },
    {
      "cell_type": "code",
      "metadata": {
        "id": "eOdts_Zzpxzk"
      },
      "source": [
        ""
      ],
      "execution_count": null,
      "outputs": []
    },
    {
      "cell_type": "code",
      "metadata": {
        "id": "Al-m-rEBeQwD"
      },
      "source": [
        ""
      ],
      "execution_count": null,
      "outputs": []
    },
    {
      "cell_type": "code",
      "metadata": {
        "id": "P55Y_oxSfyp6"
      },
      "source": [
        ""
      ],
      "execution_count": null,
      "outputs": []
    },
    {
      "cell_type": "code",
      "metadata": {
        "id": "ucf3MGcDe42p"
      },
      "source": [
        ""
      ],
      "execution_count": null,
      "outputs": []
    },
    {
      "cell_type": "code",
      "metadata": {
        "id": "x60hNHBme3th"
      },
      "source": [
        ""
      ],
      "execution_count": null,
      "outputs": []
    },
    {
      "cell_type": "code",
      "metadata": {
        "id": "1ZD7Um6NevMZ"
      },
      "source": [
        ""
      ],
      "execution_count": null,
      "outputs": []
    },
    {
      "cell_type": "code",
      "metadata": {
        "id": "ppg-atlpeMMi"
      },
      "source": [
        ""
      ],
      "execution_count": null,
      "outputs": []
    },
    {
      "cell_type": "code",
      "metadata": {
        "id": "4jcoQutNaHDJ"
      },
      "source": [
        ""
      ],
      "execution_count": null,
      "outputs": []
    },
    {
      "cell_type": "code",
      "metadata": {
        "id": "ENDemz47Z4Tp"
      },
      "source": [
        ""
      ],
      "execution_count": null,
      "outputs": []
    },
    {
      "cell_type": "code",
      "metadata": {
        "id": "O71a_eC8Z0cB"
      },
      "source": [
        ""
      ],
      "execution_count": null,
      "outputs": []
    },
    {
      "cell_type": "code",
      "metadata": {
        "id": "MV1kWc3wZi-R"
      },
      "source": [
        ""
      ],
      "execution_count": null,
      "outputs": []
    },
    {
      "cell_type": "code",
      "metadata": {
        "id": "GQOSnWSHZgGZ"
      },
      "source": [
        ""
      ],
      "execution_count": null,
      "outputs": []
    },
    {
      "cell_type": "code",
      "metadata": {
        "id": "lLCGP23RZeSa"
      },
      "source": [
        ""
      ],
      "execution_count": null,
      "outputs": []
    },
    {
      "cell_type": "code",
      "metadata": {
        "id": "_Jf0pe4CZaA6"
      },
      "source": [
        ""
      ],
      "execution_count": null,
      "outputs": []
    },
    {
      "cell_type": "code",
      "metadata": {
        "id": "LFf6DLZdZVmy"
      },
      "source": [
        ""
      ],
      "execution_count": null,
      "outputs": []
    },
    {
      "cell_type": "code",
      "metadata": {
        "id": "qmdJg3tuZNmu"
      },
      "source": [
        ""
      ],
      "execution_count": null,
      "outputs": []
    },
    {
      "cell_type": "code",
      "metadata": {
        "id": "qNx_LPsmOhCE"
      },
      "source": [
        ""
      ],
      "execution_count": null,
      "outputs": []
    },
    {
      "cell_type": "code",
      "metadata": {
        "id": "_pSky6fUOcd8"
      },
      "source": [
        ""
      ],
      "execution_count": null,
      "outputs": []
    },
    {
      "cell_type": "code",
      "metadata": {
        "id": "X6Mq1u1nOZlU"
      },
      "source": [
        ""
      ],
      "execution_count": null,
      "outputs": []
    },
    {
      "cell_type": "code",
      "metadata": {
        "id": "iFNcTm_POYTU"
      },
      "source": [
        ""
      ],
      "execution_count": null,
      "outputs": []
    },
    {
      "cell_type": "code",
      "metadata": {
        "id": "Z6qIoBnGOO18"
      },
      "source": [
        ""
      ],
      "execution_count": null,
      "outputs": []
    },
    {
      "cell_type": "code",
      "metadata": {
        "id": "RXcX3yoUOMlU"
      },
      "source": [
        ""
      ],
      "execution_count": null,
      "outputs": []
    },
    {
      "cell_type": "code",
      "metadata": {
        "id": "fRf06olEOJUE"
      },
      "source": [
        ""
      ],
      "execution_count": null,
      "outputs": []
    },
    {
      "cell_type": "code",
      "metadata": {
        "id": "SUBiUIdgNgc0"
      },
      "source": [
        ""
      ],
      "execution_count": null,
      "outputs": []
    },
    {
      "cell_type": "code",
      "metadata": {
        "id": "knJnm2tDLjlb"
      },
      "source": [
        ""
      ],
      "execution_count": null,
      "outputs": []
    },
    {
      "cell_type": "code",
      "metadata": {
        "id": "GfFQnKHRLJO8"
      },
      "source": [
        ""
      ],
      "execution_count": null,
      "outputs": []
    }
  ]
}