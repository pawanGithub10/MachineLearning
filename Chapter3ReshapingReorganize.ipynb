{
  "nbformat": 4,
  "nbformat_minor": 0,
  "metadata": {
    "colab": {
      "name": "Chapter3ReshapingReorganize.ipynb",
      "provenance": [],
      "authorship_tag": "ABX9TyOWumsQJ8SRlWdKGd5l/hMA",
      "include_colab_link": true
    },
    "kernelspec": {
      "name": "python3",
      "display_name": "Python 3"
    }
  },
  "cells": [
    {
      "cell_type": "markdown",
      "metadata": {
        "id": "view-in-github",
        "colab_type": "text"
      },
      "source": [
        "<a href=\"https://colab.research.google.com/github/pawanGithub10/MachineLearning/blob/main/Chapter3ReshapingReorganize.ipynb\" target=\"_parent\"><img src=\"https://colab.research.google.com/assets/colab-badge.svg\" alt=\"Open In Colab\"/></a>"
      ]
    },
    {
      "cell_type": "code",
      "metadata": {
        "id": "VCSbIUdFFUrH"
      },
      "source": [
        "import pandas as pd \n",
        "import numpy as np\n",
        "import datetime\n",
        "import matplotlib.pyplot as plt\n",
        "%matplotlib inline\n",
        "pd.set_option('display.notebook_repr_html',False)\n",
        "pd.set_option('display.max_columns',15)\n",
        "pd.set_option('precision',3)\n",
        "pd.set_option('display.max_rows',20)\n"
      ],
      "execution_count": 1,
      "outputs": []
    },
    {
      "cell_type": "code",
      "metadata": {
        "id": "aQC1k9gSaDEB"
      },
      "source": [
        ""
      ],
      "execution_count": 1,
      "outputs": []
    },
    {
      "cell_type": "code",
      "metadata": {
        "id": "auNXDAI_G85N"
      },
      "source": [
        "import pandas_datareader.data as web\n",
        "\n",
        "start = datetime.datetime(2020,1,1)\n",
        "end = datetime.datetime(2020,11,12)\n",
        "\n",
        "msft = web.DataReader('MSFT','yahoo',start,end)\n",
        "aapl = web.DataReader('AAPL','yahoo',start,end)"
      ],
      "execution_count": 2,
      "outputs": []
    },
    {
      "cell_type": "code",
      "metadata": {
        "id": "X4JyehTJINWD",
        "outputId": "e0125034-c7ab-42af-ff10-1f829a3e2553",
        "colab": {
          "base_uri": "https://localhost:8080/"
        }
      },
      "source": [
        "msft[:3]"
      ],
      "execution_count": 3,
      "outputs": [
        {
          "output_type": "execute_result",
          "data": {
            "text/plain": [
              "              High     Low    Open   Close     Volume  Adj Close\n",
              "Date                                                            \n",
              "2020-01-02  160.73  158.33  158.78  160.62  2.262e+07    159.352\n",
              "2020-01-03  159.95  158.06  158.32  158.62  2.112e+07    157.368\n",
              "2020-01-06  159.10  156.51  157.08  159.03  2.081e+07    157.775"
            ]
          },
          "metadata": {
            "tags": []
          },
          "execution_count": 3
        }
      ]
    },
    {
      "cell_type": "code",
      "metadata": {
        "id": "ZfTt1SjoJ4wL",
        "outputId": "f0cce4a9-3c38-41ba-fe8f-d436871a2c3f",
        "colab": {
          "base_uri": "https://localhost:8080/"
        }
      },
      "source": [
        "aapl[:3]"
      ],
      "execution_count": 4,
      "outputs": [
        {
          "output_type": "execute_result",
          "data": {
            "text/plain": [
              "              High     Low    Open   Close     Volume  Adj Close\n",
              "Date                                                            \n",
              "2020-01-02  75.150  73.798  74.060  75.088  1.355e+08     73.840\n",
              "2020-01-03  75.145  74.125  74.287  74.357  1.463e+08     73.122\n",
              "2020-01-06  74.990  73.188  73.448  74.950  1.184e+08     73.705"
            ]
          },
          "metadata": {
            "tags": []
          },
          "execution_count": 4
        }
      ]
    },
    {
      "cell_type": "code",
      "metadata": {
        "id": "8R-Q9oatJ868"
      },
      "source": [
        "#Reorganizing and reshaping the data\n",
        "msftadj01 = msft['2020-01'][['Adj Close']]\n",
        "msftadj05 = msft['2020-05'][['Adj Close']]"
      ],
      "execution_count": 5,
      "outputs": []
    },
    {
      "cell_type": "code",
      "metadata": {
        "id": "qGUt4K-NHk6p",
        "outputId": "e2b149d7-2d46-45cf-a816-a2b14600f974",
        "colab": {
          "base_uri": "https://localhost:8080/"
        }
      },
      "source": [
        "msftadj01[0:3]"
      ],
      "execution_count": 6,
      "outputs": [
        {
          "output_type": "execute_result",
          "data": {
            "text/plain": [
              "            Adj Close\n",
              "Date                 \n",
              "2020-01-02    159.352\n",
              "2020-01-03    157.368\n",
              "2020-01-06    157.775"
            ]
          },
          "metadata": {
            "tags": []
          },
          "execution_count": 6
        }
      ]
    },
    {
      "cell_type": "code",
      "metadata": {
        "id": "KzC8o7v4LD4U",
        "outputId": "27df49a6-c097-4e18-f90f-5b544c37d31c",
        "colab": {
          "base_uri": "https://localhost:8080/"
        }
      },
      "source": [
        "msftadj05[0:30]"
      ],
      "execution_count": 7,
      "outputs": [
        {
          "output_type": "execute_result",
          "data": {
            "text/plain": [
              "            Adj Close\n",
              "Date                 \n",
              "2020-05-01    173.665\n",
              "2020-05-04    177.913\n",
              "2020-05-05    179.823\n",
              "2020-05-06    181.594\n",
              "2020-05-07    182.649\n",
              "2020-05-08    183.723\n",
              "2020-05-11    185.772\n",
              "2020-05-12    181.564\n",
              "2020-05-13    178.819\n",
              "2020-05-14    179.594\n",
              "2020-05-15    182.211\n",
              "2020-05-18    183.952\n",
              "2020-05-19    182.678\n",
              "2020-05-20    185.212\n",
              "2020-05-21    182.988\n",
              "2020-05-22    183.067\n",
              "2020-05-26    181.132\n",
              "2020-05-27    181.372\n",
              "2020-05-28    180.963\n",
              "2020-05-29    182.808"
            ]
          },
          "metadata": {
            "tags": []
          },
          "execution_count": 7
        }
      ]
    },
    {
      "cell_type": "code",
      "metadata": {
        "id": "1S5hK9xLLM58",
        "outputId": "5bee70e1-39cd-483b-e0bf-72764cdd9119",
        "colab": {
          "base_uri": "https://localhost:8080/"
        }
      },
      "source": [
        "pd.concat([msftadj01.head(5),msftadj05.head(5)])"
      ],
      "execution_count": 8,
      "outputs": [
        {
          "output_type": "execute_result",
          "data": {
            "text/plain": [
              "            Adj Close\n",
              "Date                 \n",
              "2020-01-02    159.352\n",
              "2020-01-03    157.368\n",
              "2020-01-06    157.775\n",
              "2020-01-07    156.336\n",
              "2020-01-08    158.827\n",
              "2020-05-01    173.665\n",
              "2020-05-04    177.913\n",
              "2020-05-05    179.823\n",
              "2020-05-06    181.594\n",
              "2020-05-07    182.649"
            ]
          },
          "metadata": {
            "tags": []
          },
          "execution_count": 8
        }
      ]
    },
    {
      "cell_type": "code",
      "metadata": {
        "id": "D_ovkEvKMEXc",
        "outputId": "fc576b5e-afd2-4414-cd96-8c9254862f78",
        "colab": {
          "base_uri": "https://localhost:8080/"
        }
      },
      "source": [
        "aaplA01 = aapl['2020-01'][['Adj Close']]\n",
        "withdups = pd.concat([msftadj01[:3],aaplA01[:3]])\n",
        "withdups"
      ],
      "execution_count": 9,
      "outputs": [
        {
          "output_type": "execute_result",
          "data": {
            "text/plain": [
              "            Adj Close\n",
              "Date                 \n",
              "2020-01-02    159.352\n",
              "2020-01-03    157.368\n",
              "2020-01-06    157.775\n",
              "2020-01-02     73.840\n",
              "2020-01-03     73.122\n",
              "2020-01-06     73.705"
            ]
          },
          "metadata": {
            "tags": []
          },
          "execution_count": 9
        }
      ]
    },
    {
      "cell_type": "code",
      "metadata": {
        "id": "3WF5gdhlNXhc",
        "outputId": "35d0ce5b-d779-44bd-d12f-0d130f49188e",
        "colab": {
          "base_uri": "https://localhost:8080/"
        }
      },
      "source": [
        "withdups.loc['2020-01-02']"
      ],
      "execution_count": 10,
      "outputs": [
        {
          "output_type": "execute_result",
          "data": {
            "text/plain": [
              "            Adj Close\n",
              "Date                 \n",
              "2020-01-02    159.352\n",
              "2020-01-02     73.840"
            ]
          },
          "metadata": {
            "tags": []
          },
          "execution_count": 10
        }
      ]
    },
    {
      "cell_type": "code",
      "metadata": {
        "id": "bgRYLuKMNj8c",
        "outputId": "d79745ee-1e8c-4bb9-aecc-86804922198f",
        "colab": {
          "base_uri": "https://localhost:8080/"
        }
      },
      "source": [
        "#Multiindex can solve the problem of lost identity\n",
        "closes = pd.concat([msftadj01[:3],aaplA01[:3]],keys=['MSFT','AAPL'])\n",
        "closes"
      ],
      "execution_count": 11,
      "outputs": [
        {
          "output_type": "execute_result",
          "data": {
            "text/plain": [
              "                 Adj Close\n",
              "     Date                 \n",
              "MSFT 2020-01-02    159.352\n",
              "     2020-01-03    157.368\n",
              "     2020-01-06    157.775\n",
              "AAPL 2020-01-02     73.840\n",
              "     2020-01-03     73.122\n",
              "     2020-01-06     73.705"
            ]
          },
          "metadata": {
            "tags": []
          },
          "execution_count": 11
        }
      ]
    },
    {
      "cell_type": "code",
      "metadata": {
        "id": "Iaswov4XOQZc",
        "outputId": "1c5983db-0b7a-4dac-dac3-920b977ff11b",
        "colab": {
          "base_uri": "https://localhost:8080/"
        }
      },
      "source": [
        "closes.loc['MSFT'][:3]"
      ],
      "execution_count": 12,
      "outputs": [
        {
          "output_type": "execute_result",
          "data": {
            "text/plain": [
              "            Adj Close\n",
              "Date                 \n",
              "2020-01-02    159.352\n",
              "2020-01-03    157.368\n",
              "2020-01-06    157.775"
            ]
          },
          "metadata": {
            "tags": []
          },
          "execution_count": 12
        }
      ]
    },
    {
      "cell_type": "code",
      "metadata": {
        "id": "_0lbi9LbOo78",
        "outputId": "d8881f24-08f8-40f6-ad75-b13f252b0fcd",
        "colab": {
          "base_uri": "https://localhost:8080/"
        }
      },
      "source": [
        "msftAdV = msft[['Adj Close','Volume']]\n",
        "aaplAdV = aapl[['Adj Close','Volume']]\n",
        "dfMerged = pd.concat([msftAdV,aaplAdV])\n",
        "dfMerged.head(20)"
      ],
      "execution_count": 13,
      "outputs": [
        {
          "output_type": "execute_result",
          "data": {
            "text/plain": [
              "            Adj Close     Volume\n",
              "Date                            \n",
              "2020-01-02    159.352  2.262e+07\n",
              "2020-01-03    157.368  2.112e+07\n",
              "2020-01-06    157.775  2.081e+07\n",
              "2020-01-07    156.336  2.163e+07\n",
              "2020-01-08    158.827  2.775e+07\n",
              "2020-01-09    160.811  2.138e+07\n",
              "2020-01-10    160.067  2.073e+07\n",
              "2020-01-13    161.991  2.163e+07\n",
              "2020-01-14    160.850  2.348e+07\n",
              "2020-01-15    161.892  2.142e+07\n",
              "2020-01-16    164.859  2.387e+07\n",
              "2020-01-17    165.781  3.437e+07\n",
              "2020-01-21    165.186  2.952e+07\n",
              "2020-01-22    164.392  2.414e+07\n",
              "2020-01-23    165.404  1.968e+07\n",
              "2020-01-24    163.738  2.492e+07\n",
              "2020-01-27    160.999  3.208e+07\n",
              "2020-01-28    164.154  2.490e+07\n",
              "2020-01-29    166.714  3.475e+07\n",
              "2020-01-30    171.416  5.160e+07"
            ]
          },
          "metadata": {
            "tags": []
          },
          "execution_count": 13
        }
      ]
    },
    {
      "cell_type": "code",
      "metadata": {
        "id": "Cx0FK801aJMB",
        "outputId": "78de79a3-9a9c-458a-85fa-806bfd6c3545",
        "colab": {
          "base_uri": "https://localhost:8080/"
        }
      },
      "source": [
        "dfMerged['2020-01-02']"
      ],
      "execution_count": 14,
      "outputs": [
        {
          "output_type": "execute_result",
          "data": {
            "text/plain": [
              "            Adj Close     Volume\n",
              "Date                            \n",
              "2020-01-02    159.352  2.262e+07\n",
              "2020-01-02     73.840  1.355e+08"
            ]
          },
          "metadata": {
            "tags": []
          },
          "execution_count": 14
        }
      ]
    },
    {
      "cell_type": "code",
      "metadata": {
        "id": "CvcRuCb6aQEZ",
        "outputId": "b4361c7b-50f0-4281-a318-43df9a9e177a",
        "colab": {
          "base_uri": "https://localhost:8080/"
        }
      },
      "source": [
        "aaplA = aapl[['Adj Close']]\n",
        "pd.concat([msftAdV,aaplA],join='inner')"
      ],
      "execution_count": 15,
      "outputs": [
        {
          "output_type": "execute_result",
          "data": {
            "text/plain": [
              "            Adj Close\n",
              "Date                 \n",
              "2020-01-02    159.352\n",
              "2020-01-03    157.368\n",
              "2020-01-06    157.775\n",
              "2020-01-07    156.336\n",
              "2020-01-08    158.827\n",
              "...               ...\n",
              "2020-11-06    118.690\n",
              "2020-11-09    116.320\n",
              "2020-11-10    115.970\n",
              "2020-11-11    119.490\n",
              "2020-11-12    119.210\n",
              "\n",
              "[440 rows x 1 columns]"
            ]
          },
          "metadata": {
            "tags": []
          },
          "execution_count": 15
        }
      ]
    },
    {
      "cell_type": "code",
      "metadata": {
        "id": "19yGn1y5c0Di",
        "outputId": "e59bb76c-af47-4dd4-a179-3c8bafd72e13",
        "colab": {
          "base_uri": "https://localhost:8080/"
        }
      },
      "source": [
        "msftA = msft[['Adj Close']]\n",
        "pd.concat([msftA,aaplA],axis=1)"
      ],
      "execution_count": 16,
      "outputs": [
        {
          "output_type": "execute_result",
          "data": {
            "text/plain": [
              "            Adj Close  Adj Close\n",
              "Date                            \n",
              "2020-01-02    159.352     73.840\n",
              "2020-01-03    157.368     73.122\n",
              "2020-01-06    157.775     73.705\n",
              "2020-01-07    156.336     73.358\n",
              "2020-01-08    158.827     74.538\n",
              "...               ...        ...\n",
              "2020-11-06    223.720    118.690\n",
              "2020-11-09    218.390    116.320\n",
              "2020-11-10    211.010    115.970\n",
              "2020-11-11    216.550    119.490\n",
              "2020-11-12    215.440    119.210\n",
              "\n",
              "[220 rows x 2 columns]"
            ]
          },
          "metadata": {
            "tags": []
          },
          "execution_count": 16
        }
      ]
    },
    {
      "cell_type": "code",
      "metadata": {
        "id": "QX0Ze14MdPW6",
        "outputId": "1beb720d-06b1-49ca-f1ad-ab60fa93c0b2",
        "colab": {
          "base_uri": "https://localhost:8080/"
        }
      },
      "source": [
        "#MultiIndex Columns\n",
        "pd.concat([msftAdV[:5],aaplAdV[:3]],axis =1,keys=['MSFT','AAPL'])"
      ],
      "execution_count": 17,
      "outputs": [
        {
          "output_type": "execute_result",
          "data": {
            "text/plain": [
              "                MSFT                 AAPL           \n",
              "           Adj Close     Volume Adj Close     Volume\n",
              "Date                                                \n",
              "2020-01-02   159.352  2.262e+07    73.840  1.355e+08\n",
              "2020-01-03   157.368  2.112e+07    73.122  1.463e+08\n",
              "2020-01-06   157.775  2.081e+07    73.705  1.184e+08\n",
              "2020-01-07   156.336  2.163e+07       NaN        NaN\n",
              "2020-01-08   158.827  2.775e+07       NaN        NaN"
            ]
          },
          "metadata": {
            "tags": []
          },
          "execution_count": 17
        }
      ]
    },
    {
      "cell_type": "code",
      "metadata": {
        "id": "Wfq4mrcHeOaS",
        "outputId": "ac9c49f8-3c1e-4b1f-db27-18b02893fa0d",
        "colab": {
          "base_uri": "https://localhost:8080/"
        }
      },
      "source": [
        "pd.concat([msftA[:5],aaplA[:4]],axis=1,join='inner',keys=['MSFT','AAPL'])"
      ],
      "execution_count": 18,
      "outputs": [
        {
          "output_type": "execute_result",
          "data": {
            "text/plain": [
              "                MSFT      AAPL\n",
              "           Adj Close Adj Close\n",
              "Date                          \n",
              "2020-01-02   159.352    73.840\n",
              "2020-01-03   157.368    73.122\n",
              "2020-01-06   157.775    73.705\n",
              "2020-01-07   156.336    73.358"
            ]
          },
          "metadata": {
            "tags": []
          },
          "execution_count": 18
        }
      ]
    },
    {
      "cell_type": "code",
      "metadata": {
        "id": "UivWN48De62a",
        "outputId": "10c96d3d-9b31-4164-af71-bf73cb314dfc",
        "colab": {
          "base_uri": "https://localhost:8080/"
        }
      },
      "source": [
        "pd.concat([msftA[:3],aaplA[:6]],axis=0,ignore_index=True,keys=['MSFT','AAPL'])"
      ],
      "execution_count": 19,
      "outputs": [
        {
          "output_type": "execute_result",
          "data": {
            "text/plain": [
              "   Adj Close\n",
              "0    159.352\n",
              "1    157.368\n",
              "2    157.775\n",
              "3     73.840\n",
              "4     73.122\n",
              "5     73.705\n",
              "6     73.358\n",
              "7     74.538\n",
              "8     76.121"
            ]
          },
          "metadata": {
            "tags": []
          },
          "execution_count": 19
        }
      ]
    },
    {
      "cell_type": "code",
      "metadata": {
        "id": "_J-JiTMDf1fq",
        "outputId": "f2929d61-95df-49d8-ab1b-d623306ae9ac",
        "colab": {
          "base_uri": "https://localhost:8080/"
        }
      },
      "source": [
        "#Merge DataFrame Objects\n",
        "msftAR = msftA.reset_index()\n",
        "msftAR"
      ],
      "execution_count": 20,
      "outputs": [
        {
          "output_type": "execute_result",
          "data": {
            "text/plain": [
              "          Date  Adj Close\n",
              "0   2020-01-02    159.352\n",
              "1   2020-01-03    157.368\n",
              "2   2020-01-06    157.775\n",
              "3   2020-01-07    156.336\n",
              "4   2020-01-08    158.827\n",
              "..         ...        ...\n",
              "215 2020-11-06    223.720\n",
              "216 2020-11-09    218.390\n",
              "217 2020-11-10    211.010\n",
              "218 2020-11-11    216.550\n",
              "219 2020-11-12    215.440\n",
              "\n",
              "[220 rows x 2 columns]"
            ]
          },
          "metadata": {
            "tags": []
          },
          "execution_count": 20
        }
      ]
    },
    {
      "cell_type": "code",
      "metadata": {
        "id": "Ysh8xaCLeUCp",
        "outputId": "7fdf2156-c88c-49a1-8090-b154fbc36973",
        "colab": {
          "base_uri": "https://localhost:8080/"
        }
      },
      "source": [
        "msftVR = msftAdV[['Volume']].reset_index()\n",
        "msftVR"
      ],
      "execution_count": 21,
      "outputs": [
        {
          "output_type": "execute_result",
          "data": {
            "text/plain": [
              "          Date     Volume\n",
              "0   2020-01-02  2.262e+07\n",
              "1   2020-01-03  2.112e+07\n",
              "2   2020-01-06  2.081e+07\n",
              "3   2020-01-07  2.163e+07\n",
              "4   2020-01-08  2.775e+07\n",
              "..         ...        ...\n",
              "215 2020-11-06  2.523e+07\n",
              "216 2020-11-09  4.440e+07\n",
              "217 2020-11-10  4.405e+07\n",
              "218 2020-11-11  2.944e+07\n",
              "219 2020-11-12  2.159e+07\n",
              "\n",
              "[220 rows x 2 columns]"
            ]
          },
          "metadata": {
            "tags": []
          },
          "execution_count": 21
        }
      ]
    },
    {
      "cell_type": "code",
      "metadata": {
        "id": "SqPKv2jReh0w",
        "outputId": "642fcf32-f7a3-43cc-fce4-a85db4461b97",
        "colab": {
          "base_uri": "https://localhost:8080/"
        }
      },
      "source": [
        "msftMVR = pd.merge(msftAR,msftVR)\n",
        "msftMVR"
      ],
      "execution_count": 22,
      "outputs": [
        {
          "output_type": "execute_result",
          "data": {
            "text/plain": [
              "          Date  Adj Close     Volume\n",
              "0   2020-01-02    159.352  2.262e+07\n",
              "1   2020-01-03    157.368  2.112e+07\n",
              "2   2020-01-06    157.775  2.081e+07\n",
              "3   2020-01-07    156.336  2.163e+07\n",
              "4   2020-01-08    158.827  2.775e+07\n",
              "..         ...        ...        ...\n",
              "215 2020-11-06    223.720  2.523e+07\n",
              "216 2020-11-09    218.390  4.440e+07\n",
              "217 2020-11-10    211.010  4.405e+07\n",
              "218 2020-11-11    216.550  2.944e+07\n",
              "219 2020-11-12    215.440  2.159e+07\n",
              "\n",
              "[220 rows x 3 columns]"
            ]
          },
          "metadata": {
            "tags": []
          },
          "execution_count": 22
        }
      ]
    },
    {
      "cell_type": "code",
      "metadata": {
        "id": "9B30xg_sexaJ",
        "outputId": "76f1caba-5e6b-4540-d414-fdbbf4f9c163",
        "colab": {
          "base_uri": "https://localhost:8080/"
        }
      },
      "source": [
        "#Pivoting.\n",
        "#Generally the time series data come in repeated time format.\n",
        "msft.insert(0,'Symbol','MSFT')\n",
        "aapl.insert(0,'Symbol','AAPL')\n",
        "combined = pd.concat([msft,aapl]).sort_index()\n",
        "combined"
      ],
      "execution_count": 23,
      "outputs": [
        {
          "output_type": "execute_result",
          "data": {
            "text/plain": [
              "           Symbol     High      Low     Open    Close     Volume  Adj Close\n",
              "Date                                                                       \n",
              "2020-01-02   MSFT  160.730  158.330  158.780  160.620  2.262e+07    159.352\n",
              "2020-01-02   AAPL   75.150   73.798   74.060   75.088  1.355e+08     73.840\n",
              "2020-01-03   MSFT  159.950  158.060  158.320  158.620  2.112e+07    157.368\n",
              "2020-01-03   AAPL   75.145   74.125   74.287   74.357  1.463e+08     73.122\n",
              "2020-01-06   MSFT  159.100  156.510  157.080  159.030  2.081e+07    157.775\n",
              "...           ...      ...      ...      ...      ...        ...        ...\n",
              "2020-11-10   MSFT  216.500  209.720  214.500  211.010  4.405e+07    211.010\n",
              "2020-11-11   AAPL  119.630  116.440  117.190  119.490  1.123e+08    119.490\n",
              "2020-11-11   MSFT  218.040  212.200  212.390  216.550  2.944e+07    216.550\n",
              "2020-11-12   MSFT  219.110  214.460  217.210  215.440  2.159e+07    215.440\n",
              "2020-11-12   AAPL  120.530  118.570  119.620  119.210  1.032e+08    119.210\n",
              "\n",
              "[440 rows x 7 columns]"
            ]
          },
          "metadata": {
            "tags": []
          },
          "execution_count": 23
        }
      ]
    },
    {
      "cell_type": "code",
      "metadata": {
        "id": "3negyIbnptiH",
        "outputId": "3f98492f-dc46-4a7c-922c-ab7eefd0e961",
        "colab": {
          "base_uri": "https://localhost:8080/"
        }
      },
      "source": [
        "combinedRIndex = combined.reset_index()\n",
        "combinedRIndex"
      ],
      "execution_count": 24,
      "outputs": [
        {
          "output_type": "execute_result",
          "data": {
            "text/plain": [
              "          Date Symbol     High      Low     Open    Close     Volume  \\\n",
              "0   2020-01-02   MSFT  160.730  158.330  158.780  160.620  2.262e+07   \n",
              "1   2020-01-02   AAPL   75.150   73.798   74.060   75.088  1.355e+08   \n",
              "2   2020-01-03   MSFT  159.950  158.060  158.320  158.620  2.112e+07   \n",
              "3   2020-01-03   AAPL   75.145   74.125   74.287   74.357  1.463e+08   \n",
              "4   2020-01-06   MSFT  159.100  156.510  157.080  159.030  2.081e+07   \n",
              "..         ...    ...      ...      ...      ...      ...        ...   \n",
              "435 2020-11-10   MSFT  216.500  209.720  214.500  211.010  4.405e+07   \n",
              "436 2020-11-11   AAPL  119.630  116.440  117.190  119.490  1.123e+08   \n",
              "437 2020-11-11   MSFT  218.040  212.200  212.390  216.550  2.944e+07   \n",
              "438 2020-11-12   MSFT  219.110  214.460  217.210  215.440  2.159e+07   \n",
              "439 2020-11-12   AAPL  120.530  118.570  119.620  119.210  1.032e+08   \n",
              "\n",
              "     Adj Close  \n",
              "0      159.352  \n",
              "1       73.840  \n",
              "2      157.368  \n",
              "3       73.122  \n",
              "4      157.775  \n",
              "..         ...  \n",
              "435    211.010  \n",
              "436    119.490  \n",
              "437    216.550  \n",
              "438    215.440  \n",
              "439    119.210  \n",
              "\n",
              "[440 rows x 8 columns]"
            ]
          },
          "metadata": {
            "tags": []
          },
          "execution_count": 24
        }
      ]
    },
    {
      "cell_type": "code",
      "metadata": {
        "id": "KcLpaduXp3BD",
        "outputId": "f865479d-7ac0-40e1-a5ee-370266c6e974",
        "colab": {
          "base_uri": "https://localhost:8080/"
        }
      },
      "source": [
        "stocksClose = combinedRIndex.pivot(index='Date',columns='Symbol',values='Adj Close')\n",
        "stocksClose"
      ],
      "execution_count": 25,
      "outputs": [
        {
          "output_type": "execute_result",
          "data": {
            "text/plain": [
              "Symbol         AAPL     MSFT\n",
              "Date                        \n",
              "2020-01-02   73.840  159.352\n",
              "2020-01-03   73.122  157.368\n",
              "2020-01-06   73.705  157.775\n",
              "2020-01-07   73.358  156.336\n",
              "2020-01-08   74.538  158.827\n",
              "...             ...      ...\n",
              "2020-11-06  118.690  223.720\n",
              "2020-11-09  116.320  218.390\n",
              "2020-11-10  115.970  211.010\n",
              "2020-11-11  119.490  216.550\n",
              "2020-11-12  119.210  215.440\n",
              "\n",
              "[220 rows x 2 columns]"
            ]
          },
          "metadata": {
            "tags": []
          },
          "execution_count": 25
        }
      ]
    },
    {
      "cell_type": "code",
      "metadata": {
        "id": "ICRxncP0wqJc",
        "outputId": "d10413cb-e7df-4f2e-9c86-b4fb9050c5c9",
        "colab": {
          "base_uri": "https://localhost:8080/"
        }
      },
      "source": [
        "stocksClose.index"
      ],
      "execution_count": 26,
      "outputs": [
        {
          "output_type": "execute_result",
          "data": {
            "text/plain": [
              "DatetimeIndex(['2020-01-02', '2020-01-03', '2020-01-06', '2020-01-07',\n",
              "               '2020-01-08', '2020-01-09', '2020-01-10', '2020-01-13',\n",
              "               '2020-01-14', '2020-01-15',\n",
              "               ...\n",
              "               '2020-10-30', '2020-11-02', '2020-11-03', '2020-11-04',\n",
              "               '2020-11-05', '2020-11-06', '2020-11-09', '2020-11-10',\n",
              "               '2020-11-11', '2020-11-12'],\n",
              "              dtype='datetime64[ns]', name='Date', length=220, freq=None)"
            ]
          },
          "metadata": {
            "tags": []
          },
          "execution_count": 26
        }
      ]
    },
    {
      "cell_type": "code",
      "metadata": {
        "id": "1pvjHL0uwt5c",
        "outputId": "243e7cf0-804f-4ab2-d439-ec1b2385fc9c",
        "colab": {
          "base_uri": "https://localhost:8080/"
        }
      },
      "source": [
        "stackedStockClose = stocksClose.stack()\n",
        "stackedStockClose.head()"
      ],
      "execution_count": 41,
      "outputs": [
        {
          "output_type": "execute_result",
          "data": {
            "text/plain": [
              "Date        Symbol\n",
              "2020-01-02  AAPL       73.840\n",
              "            MSFT      159.352\n",
              "2020-01-03  AAPL       73.122\n",
              "            MSFT      157.368\n",
              "2020-01-06  AAPL       73.705\n",
              "dtype: float64"
            ]
          },
          "metadata": {
            "tags": []
          },
          "execution_count": 41
        }
      ]
    },
    {
      "cell_type": "code",
      "metadata": {
        "id": "w2h8QjkZ0PNx",
        "outputId": "c1c07e8b-6628-4ff2-8795-9f7f6f749eac",
        "colab": {
          "base_uri": "https://localhost:8080/"
        }
      },
      "source": [
        "stackedStockClose.index"
      ],
      "execution_count": 42,
      "outputs": [
        {
          "output_type": "execute_result",
          "data": {
            "text/plain": [
              "MultiIndex([('2020-01-02', 'AAPL'),\n",
              "            ('2020-01-02', 'MSFT'),\n",
              "            ('2020-01-03', 'AAPL'),\n",
              "            ('2020-01-03', 'MSFT'),\n",
              "            ('2020-01-06', 'AAPL'),\n",
              "            ('2020-01-06', 'MSFT'),\n",
              "            ('2020-01-07', 'AAPL'),\n",
              "            ('2020-01-07', 'MSFT'),\n",
              "            ('2020-01-08', 'AAPL'),\n",
              "            ('2020-01-08', 'MSFT'),\n",
              "            ...\n",
              "            ('2020-11-06', 'AAPL'),\n",
              "            ('2020-11-06', 'MSFT'),\n",
              "            ('2020-11-09', 'AAPL'),\n",
              "            ('2020-11-09', 'MSFT'),\n",
              "            ('2020-11-10', 'AAPL'),\n",
              "            ('2020-11-10', 'MSFT'),\n",
              "            ('2020-11-11', 'AAPL'),\n",
              "            ('2020-11-11', 'MSFT'),\n",
              "            ('2020-11-12', 'AAPL'),\n",
              "            ('2020-11-12', 'MSFT')],\n",
              "           names=['Date', 'Symbol'], length=440)"
            ]
          },
          "metadata": {
            "tags": []
          },
          "execution_count": 42
        }
      ]
    },
    {
      "cell_type": "code",
      "metadata": {
        "id": "TrdIPNsM0SW2"
      },
      "source": [
        ""
      ],
      "execution_count": null,
      "outputs": []
    },
    {
      "cell_type": "code",
      "metadata": {
        "id": "q6vIns132AEz",
        "outputId": "c7fb72cd-f5ca-4300-ab6b-8a1014c6a3c3",
        "colab": {
          "base_uri": "https://localhost:8080/"
        }
      },
      "source": [
        "stackedStockClose.loc['2020-01-06','AAPL']"
      ],
      "execution_count": 28,
      "outputs": [
        {
          "output_type": "execute_result",
          "data": {
            "text/plain": [
              "73.70481872558594"
            ]
          },
          "metadata": {
            "tags": []
          },
          "execution_count": 28
        }
      ]
    },
    {
      "cell_type": "code",
      "metadata": {
        "id": "AxkbZbtyyS9S",
        "outputId": "7bf41895-011e-43c5-e389-d5aea832398d",
        "colab": {
          "base_uri": "https://localhost:8080/"
        }
      },
      "source": [
        "stackedStockClose[:,'MSFT']\n"
      ],
      "execution_count": 44,
      "outputs": [
        {
          "output_type": "execute_result",
          "data": {
            "text/plain": [
              "Date\n",
              "2020-01-02    159.352\n",
              "2020-01-03    157.368\n",
              "2020-01-06    157.775\n",
              "2020-01-07    156.336\n",
              "2020-01-08    158.827\n",
              "               ...   \n",
              "2020-11-06    223.720\n",
              "2020-11-09    218.390\n",
              "2020-11-10    211.010\n",
              "2020-11-11    216.550\n",
              "2020-11-12    215.440\n",
              "Length: 220, dtype: float64"
            ]
          },
          "metadata": {
            "tags": []
          },
          "execution_count": 44
        }
      ]
    },
    {
      "cell_type": "code",
      "metadata": {
        "id": "9g6oA5i20hpx",
        "outputId": "96115d87-e2f0-4bd7-a261-dd029537c5f0",
        "colab": {
          "base_uri": "https://localhost:8080/"
        }
      },
      "source": [
        "stackedStockClose[:3]"
      ],
      "execution_count": 45,
      "outputs": [
        {
          "output_type": "execute_result",
          "data": {
            "text/plain": [
              "Date        Symbol\n",
              "2020-01-02  AAPL       73.840\n",
              "            MSFT      159.352\n",
              "2020-01-03  AAPL       73.122\n",
              "dtype: float64"
            ]
          },
          "metadata": {
            "tags": []
          },
          "execution_count": 45
        }
      ]
    },
    {
      "cell_type": "code",
      "metadata": {
        "id": "d7KEtrikzDAm",
        "outputId": "4ff013c0-7940-429c-a6d3-756b8b0fcb06",
        "colab": {
          "base_uri": "https://localhost:8080/"
        }
      },
      "source": [
        "unstackedCloses = stackedStockClose.unstack()\n",
        "unstackedCloses[:3]"
      ],
      "execution_count": 46,
      "outputs": [
        {
          "output_type": "execute_result",
          "data": {
            "text/plain": [
              "Symbol        AAPL     MSFT\n",
              "Date                       \n",
              "2020-01-02  73.840  159.352\n",
              "2020-01-03  73.122  157.368\n",
              "2020-01-06  73.705  157.775"
            ]
          },
          "metadata": {
            "tags": []
          },
          "execution_count": 46
        }
      ]
    },
    {
      "cell_type": "code",
      "metadata": {
        "id": "Ml0F9DYV1Mtd",
        "outputId": "be988264-6df1-4098-ef26-e18fcf8a408f",
        "colab": {
          "base_uri": "https://localhost:8080/"
        }
      },
      "source": [
        "melted = pd.melt(combinedRIndex,id_vars = ['Date','Symbol'])\n",
        "melted[:5]"
      ],
      "execution_count": 51,
      "outputs": [
        {
          "output_type": "execute_result",
          "data": {
            "text/plain": [
              "        Date Symbol variable    value\n",
              "0 2020-01-02   MSFT     High  160.730\n",
              "1 2020-01-02   AAPL     High   75.150\n",
              "2 2020-01-03   MSFT     High  159.950\n",
              "3 2020-01-03   AAPL     High   75.145\n",
              "4 2020-01-06   MSFT     High  159.100"
            ]
          },
          "metadata": {
            "tags": []
          },
          "execution_count": 51
        }
      ]
    },
    {
      "cell_type": "code",
      "metadata": {
        "id": "nKv5dZxs11Wt",
        "outputId": "88462abb-2af9-4b61-a944-a39931f754d9",
        "colab": {
          "base_uri": "https://localhost:8080/"
        }
      },
      "source": [
        "print(combinedRIndex.shape)\n",
        "print(melted.shape)\n"
      ],
      "execution_count": 52,
      "outputs": [
        {
          "output_type": "stream",
          "text": [
            "(440, 8)\n",
            "(2640, 4)\n"
          ],
          "name": "stdout"
        }
      ]
    },
    {
      "cell_type": "code",
      "metadata": {
        "id": "-_0eTFaO2Kwl",
        "outputId": "f48b0b48-cac5-436c-ec14-daf3dbba14a7",
        "colab": {
          "base_uri": "https://localhost:8080/"
        }
      },
      "source": [
        "s4g = combined[['Symbol','Adj Close']].reset_index()\n",
        "s4g.insert(1,'Year',pd.DatetimeIndex(s4g['Date']).year)\n",
        "s4g.insert(2,'Month[:5]',pd.DatetimeIndex(s4g['Date']).month)\n",
        "s4g[:5]"
      ],
      "execution_count": 54,
      "outputs": [
        {
          "output_type": "execute_result",
          "data": {
            "text/plain": [
              "        Date  Year  Month[:5] Symbol  Adj Close\n",
              "0 2020-01-02  2020          1   MSFT    159.352\n",
              "1 2020-01-02  2020          1   AAPL     73.840\n",
              "2 2020-01-03  2020          1   MSFT    157.368\n",
              "3 2020-01-03  2020          1   AAPL     73.122\n",
              "4 2020-01-06  2020          1   MSFT    157.775"
            ]
          },
          "metadata": {
            "tags": []
          },
          "execution_count": 54
        }
      ]
    },
    {
      "cell_type": "code",
      "metadata": {
        "id": "qxZ8JEdE3IXl",
        "outputId": "0cbd09bb-4630-423f-946f-3909a9f25e57",
        "colab": {
          "base_uri": "https://localhost:8080/"
        }
      },
      "source": [
        "grouped = s4g.groupby('Symbol')\n",
        "print(type(grouped))"
      ],
      "execution_count": 58,
      "outputs": [
        {
          "output_type": "stream",
          "text": [
            "pandas.core.groupby.generic.DataFrameGroupBy\n"
          ],
          "name": "stdout"
        }
      ]
    },
    {
      "cell_type": "code",
      "metadata": {
        "id": "wgJvSE3m4wd1",
        "outputId": "dfb320a2-5cb3-4963-aacd-6cebfc9f5228",
        "colab": {
          "base_uri": "https://localhost:8080/"
        }
      },
      "source": [
        "grouped.groups"
      ],
      "execution_count": 59,
      "outputs": [
        {
          "output_type": "execute_result",
          "data": {
            "text/plain": [
              "{'AAPL': [1, 3, 5, 7, 9, 11, 13, 14, 16, 18, 20, 23, 25, 27, 29, 30, 33, 34, 37, 38, 41, 42, 44, 46, 49, 51, 52, 54, 57, 58, 60, 63, 64, 67, 68, 71, 73, 75, 77, 79, 81, 83, 84, 87, 89, 90, 92, 95, 96, 99, 101, 103, 105, 106, 109, 110, 112, 114, 117, 119, 121, 122, 124, 127, 128, 131, 133, 134, 137, 139, 141, 143, 144, 146, 148, 150, 152, 155, 157, 159, 161, 163, 164, 166, 169, 170, 172, 174, 176, 179, 180, 182, 184, 186, 189, 191, 193, 194, 196, 199, ...], 'MSFT': [0, 2, 4, 6, 8, 10, 12, 15, 17, 19, 21, 22, 24, 26, 28, 31, 32, 35, 36, 39, 40, 43, 45, 47, 48, 50, 53, 55, 56, 59, 61, 62, 65, 66, 69, 70, 72, 74, 76, 78, 80, 82, 85, 86, 88, 91, 93, 94, 97, 98, 100, 102, 104, 107, 108, 111, 113, 115, 116, 118, 120, 123, 125, 126, 129, 130, 132, 135, 136, 138, 140, 142, 145, 147, 149, 151, 153, 154, 156, 158, 160, 162, 165, 167, 168, 171, 173, 175, 177, 178, 181, 183, 185, 187, 188, 190, 192, 195, 197, 198, ...]}"
            ]
          },
          "metadata": {
            "tags": []
          },
          "execution_count": 59
        }
      ]
    },
    {
      "cell_type": "code",
      "metadata": {
        "id": "FhENBKyw40Qc",
        "outputId": "388f6f1d-ea31-4512-d73c-a31a19195801",
        "colab": {
          "base_uri": "https://localhost:8080/"
        }
      },
      "source": [
        "len(grouped)"
      ],
      "execution_count": 60,
      "outputs": [
        {
          "output_type": "execute_result",
          "data": {
            "text/plain": [
              "2"
            ]
          },
          "metadata": {
            "tags": []
          },
          "execution_count": 60
        }
      ]
    },
    {
      "cell_type": "code",
      "metadata": {
        "id": "SuugD5qS4u6d",
        "outputId": "0c177046-e464-4260-ac30-6022211c1bf9",
        "colab": {
          "base_uri": "https://localhost:8080/"
        }
      },
      "source": [
        "grouped.size()"
      ],
      "execution_count": 61,
      "outputs": [
        {
          "output_type": "execute_result",
          "data": {
            "text/plain": [
              "Symbol\n",
              "AAPL    220\n",
              "MSFT    220\n",
              "dtype: int64"
            ]
          },
          "metadata": {
            "tags": []
          },
          "execution_count": 61
        }
      ]
    },
    {
      "cell_type": "code",
      "metadata": {
        "id": "Nrt63Djt5AjE",
        "outputId": "aef38289-2e72-497f-b616-577cd98bf9e1",
        "colab": {
          "base_uri": "https://localhost:8080/"
        }
      },
      "source": [
        "grouped.get_group('MSFT')"
      ],
      "execution_count": 62,
      "outputs": [
        {
          "output_type": "execute_result",
          "data": {
            "text/plain": [
              "          Date  Year  Month[:5] Symbol  Adj Close\n",
              "0   2020-01-02  2020          1   MSFT    159.352\n",
              "2   2020-01-03  2020          1   MSFT    157.368\n",
              "4   2020-01-06  2020          1   MSFT    157.775\n",
              "6   2020-01-07  2020          1   MSFT    156.336\n",
              "8   2020-01-08  2020          1   MSFT    158.827\n",
              "..         ...   ...        ...    ...        ...\n",
              "431 2020-11-06  2020         11   MSFT    223.720\n",
              "433 2020-11-09  2020         11   MSFT    218.390\n",
              "435 2020-11-10  2020         11   MSFT    211.010\n",
              "437 2020-11-11  2020         11   MSFT    216.550\n",
              "438 2020-11-12  2020         11   MSFT    215.440\n",
              "\n",
              "[220 rows x 5 columns]"
            ]
          },
          "metadata": {
            "tags": []
          },
          "execution_count": 62
        }
      ]
    },
    {
      "cell_type": "code",
      "metadata": {
        "id": "m4Au9R7V5FuE"
      },
      "source": [
        "mcg = s4g.groupby(['Symbol','Year','Month[:5]'])"
      ],
      "execution_count": 64,
      "outputs": []
    },
    {
      "cell_type": "code",
      "metadata": {
        "id": "c9hHqfcJ5SxM",
        "outputId": "c3832fa8-4175-4474-acc2-7e8c0c552163",
        "colab": {
          "base_uri": "https://localhost:8080/"
        }
      },
      "source": [
        "mcg.groups"
      ],
      "execution_count": 65,
      "outputs": [
        {
          "output_type": "execute_result",
          "data": {
            "text/plain": [
              "{('AAPL', 2020, 1): [1, 3, 5, 7, 9, 11, 13, 14, 16, 18, 20, 23, 25, 27, 29, 30, 33, 34, 37, 38, 41], ('AAPL', 2020, 2): [42, 44, 46, 49, 51, 52, 54, 57, 58, 60, 63, 64, 67, 68, 71, 73, 75, 77, 79], ('AAPL', 2020, 3): [81, 83, 84, 87, 89, 90, 92, 95, 96, 99, 101, 103, 105, 106, 109, 110, 112, 114, 117, 119, 121, 122], ('AAPL', 2020, 4): [124, 127, 128, 131, 133, 134, 137, 139, 141, 143, 144, 146, 148, 150, 152, 155, 157, 159, 161, 163, 164], ('AAPL', 2020, 5): [166, 169, 170, 172, 174, 176, 179, 180, 182, 184, 186, 189, 191, 193, 194, 196, 199, 201, 203, 204], ('AAPL', 2020, 6): [206, 209, 210, 212, 215, 217, 219, 221, 223, 224, 227, 229, 230, 232, 235, 237, 239, 240, 242, 244, 247, 249], ('AAPL', 2020, 7): [251, 253, 255, 256, 258, 260, 262, 264, 266, 268, 270, 272, 274, 276, 278, 281, 282, 284, 286, 289, 290, 292], ('AAPL', 2020, 8): [295, 297, 298, 300, 302, 304, 306, 309, 310, 312, 314, 317, 319, 321, 322, 324, 327, 328, 331, 333, 335], ('AAPL', 2020, 9): [337, 338, 340, 343, 344, 347, 349, 351, 352, 354, 356, 359, 361, 362, 365, 367, 369, 370, 373, 374, 376], ('AAPL', 2020, 10): [378, 381, 383, 385, 386, 389, 390, 393, 394, 397, 398, 400, 402, 405, 406, 408, 410, 413, 414, 416, 418, 420], ('AAPL', 2020, 11): [422, 424, 426, 429, 430, 432, 434, 436, 439], ('MSFT', 2020, 1): [0, 2, 4, 6, 8, 10, 12, 15, 17, 19, 21, 22, 24, 26, 28, 31, 32, 35, 36, 39, 40], ('MSFT', 2020, 2): [43, 45, 47, 48, 50, 53, 55, 56, 59, 61, 62, 65, 66, 69, 70, 72, 74, 76, 78], ('MSFT', 2020, 3): [80, 82, 85, 86, 88, 91, 93, 94, 97, 98, 100, 102, 104, 107, 108, 111, 113, 115, 116, 118, 120, 123], ('MSFT', 2020, 4): [125, 126, 129, 130, 132, 135, 136, 138, 140, 142, 145, 147, 149, 151, 153, 154, 156, 158, 160, 162, 165], ('MSFT', 2020, 5): [167, 168, 171, 173, 175, 177, 178, 181, 183, 185, 187, 188, 190, 192, 195, 197, 198, 200, 202, 205], ('MSFT', 2020, 6): [207, 208, 211, 213, 214, 216, 218, 220, 222, 225, 226, 228, 231, 233, 234, 236, 238, 241, 243, 245, 246, 248], ('MSFT', 2020, 7): [250, 252, 254, 257, 259, 261, 263, 265, 267, 269, 271, 273, 275, 277, 279, 280, 283, 285, 287, 288, 291, 293], ('MSFT', 2020, 8): [294, 296, 299, 301, 303, 305, 307, 308, 311, 313, 315, 316, 318, 320, 323, 325, 326, 329, 330, 332, 334], ('MSFT', 2020, 9): [336, 339, 341, 342, 345, 346, 348, 350, 353, 355, 357, 358, 360, 363, 364, 366, 368, 371, 372, 375, 377], ('MSFT', 2020, 10): [379, 380, 382, 384, 387, 388, 391, 392, 395, 396, 399, 401, 403, 404, 407, 409, 411, 412, 415, 417, 419, 421], ('MSFT', 2020, 11): [423, 425, 427, 428, 431, 433, 435, 437, 438]}"
            ]
          },
          "metadata": {
            "tags": []
          },
          "execution_count": 65
        }
      ]
    },
    {
      "cell_type": "code",
      "metadata": {
        "id": "Tcq6yM505Xmu",
        "outputId": "05af961e-3bd4-4cee-d708-73e12c7c0333",
        "colab": {
          "base_uri": "https://localhost:8080/"
        }
      },
      "source": [
        "s4g.set_index(['Symbol','Year','Month[:5]'])"
      ],
      "execution_count": 67,
      "outputs": [
        {
          "output_type": "execute_result",
          "data": {
            "text/plain": [
              "                            Date  Adj Close\n",
              "Symbol Year Month[:5]                      \n",
              "MSFT   2020 1         2020-01-02    159.352\n",
              "AAPL   2020 1         2020-01-02     73.840\n",
              "MSFT   2020 1         2020-01-03    157.368\n",
              "AAPL   2020 1         2020-01-03     73.122\n",
              "MSFT   2020 1         2020-01-06    157.775\n",
              "...                          ...        ...\n",
              "            11        2020-11-10    211.010\n",
              "AAPL   2020 11        2020-11-11    119.490\n",
              "MSFT   2020 11        2020-11-11    216.550\n",
              "            11        2020-11-12    215.440\n",
              "AAPL   2020 11        2020-11-12    119.210\n",
              "\n",
              "[440 rows x 2 columns]"
            ]
          },
          "metadata": {
            "tags": []
          },
          "execution_count": 67
        }
      ]
    },
    {
      "cell_type": "code",
      "metadata": {
        "id": "wRJsNT625mVs"
      },
      "source": [
        ""
      ],
      "execution_count": null,
      "outputs": []
    },
    {
      "cell_type": "code",
      "metadata": {
        "id": "EuPg4_Gm5kaE"
      },
      "source": [
        ""
      ],
      "execution_count": null,
      "outputs": []
    },
    {
      "cell_type": "code",
      "metadata": {
        "id": "mTosvRGF5QuM"
      },
      "source": [
        ""
      ],
      "execution_count": null,
      "outputs": []
    },
    {
      "cell_type": "code",
      "metadata": {
        "id": "z8Qq6slp4sed"
      },
      "source": [
        ""
      ],
      "execution_count": null,
      "outputs": []
    },
    {
      "cell_type": "code",
      "metadata": {
        "id": "nIwQwU_j4jj1"
      },
      "source": [
        ""
      ],
      "execution_count": null,
      "outputs": []
    },
    {
      "cell_type": "code",
      "metadata": {
        "id": "-I9aNm7h3GSr"
      },
      "source": [
        ""
      ],
      "execution_count": null,
      "outputs": []
    },
    {
      "cell_type": "code",
      "metadata": {
        "id": "PoFKVWAl1x11"
      },
      "source": [
        ""
      ],
      "execution_count": null,
      "outputs": []
    },
    {
      "cell_type": "code",
      "metadata": {
        "id": "H9C0l0ui1qD9"
      },
      "source": [
        ""
      ],
      "execution_count": null,
      "outputs": []
    },
    {
      "cell_type": "code",
      "metadata": {
        "id": "jclV8rTK1nU2"
      },
      "source": [
        ""
      ],
      "execution_count": null,
      "outputs": []
    },
    {
      "cell_type": "code",
      "metadata": {
        "id": "aFqm9DXp1lPN"
      },
      "source": [
        ""
      ],
      "execution_count": null,
      "outputs": []
    },
    {
      "cell_type": "code",
      "metadata": {
        "id": "ATISsRlpza7m"
      },
      "source": [
        ""
      ],
      "execution_count": null,
      "outputs": []
    },
    {
      "cell_type": "code",
      "metadata": {
        "id": "jtaaZjqizPX3"
      },
      "source": [
        ""
      ],
      "execution_count": null,
      "outputs": []
    },
    {
      "cell_type": "code",
      "metadata": {
        "id": "HQahZm95y96m"
      },
      "source": [
        ""
      ],
      "execution_count": null,
      "outputs": []
    },
    {
      "cell_type": "code",
      "metadata": {
        "id": "3yocYWLSy8ku"
      },
      "source": [
        ""
      ],
      "execution_count": null,
      "outputs": []
    },
    {
      "cell_type": "code",
      "metadata": {
        "id": "68q_Dz3qynuG"
      },
      "source": [
        ""
      ],
      "execution_count": null,
      "outputs": []
    },
    {
      "cell_type": "code",
      "metadata": {
        "id": "xpKCBC-VyijX"
      },
      "source": [
        ""
      ],
      "execution_count": null,
      "outputs": []
    },
    {
      "cell_type": "code",
      "metadata": {
        "id": "fwkabJY-yftH"
      },
      "source": [
        ""
      ],
      "execution_count": null,
      "outputs": []
    },
    {
      "cell_type": "code",
      "metadata": {
        "id": "SPU5Kozgybot"
      },
      "source": [
        ""
      ],
      "execution_count": null,
      "outputs": []
    }
  ]
}